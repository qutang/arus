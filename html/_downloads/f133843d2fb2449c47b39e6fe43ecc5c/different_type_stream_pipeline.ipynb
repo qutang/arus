{
  "cells": [
    {
      "cell_type": "code",
      "execution_count": null,
      "metadata": {
        "collapsed": false
      },
      "outputs": [],
      "source": [
        "%matplotlib inline"
      ]
    },
    {
      "cell_type": "markdown",
      "metadata": {},
      "source": [
        "\nDemonstration of the usage of arus.core.Pipeline (1)\n====================================================\n\nThe pipeline uses one annotation stream and one sensor stream as input.\n"
      ]
    },
    {
      "cell_type": "code",
      "execution_count": null,
      "metadata": {
        "collapsed": false
      },
      "outputs": [],
      "source": [
        "from arus.core.pipeline import Pipeline\nfrom arus.core.stream.generator_stream import GeneratorSlidingWindowStream\nfrom arus.core.accelerometer import generator as accel_generator\nfrom arus.core.annotation import generator as annot_generator\nfrom datetime import datetime\nimport pandas as pd\nimport numpy as np\nimport logging\n\n\ndef _pipeline_test_processor(chunk_list, **kwargs):\n    import pandas as pd\n    import numpy as np\n    result = {'NAME': [],\n              'START_TIME': [], 'STOP_TIME': [], 'VALUE': []}\n    for data, st, et, prev_st, prev_et, name in chunk_list:\n        if name == 'sensor-stream':\n            result['NAME'].append(name)\n            result['START_TIME'].append(data.iloc[0, 0])\n            result['STOP_TIME'].append(data.iloc[-1, 0])\n            result['VALUE'].append(np.mean(data.iloc[:, 1:].values))\n        elif name == 'annotation-stream':\n            result['NAME'].append(name)\n            result['START_TIME'].append(data.iloc[0, 1])\n            result['STOP_TIME'].append(data.iloc[-1, 2])\n            result['VALUE'].append('-'.join(data.iloc[:, 3].values))\n    result = pd.DataFrame.from_dict(result)\n    return result\n\n\nif __name__ == \"__main__\":\n    logging.basicConfig(\n        level=logging.DEBUG, format='[%(levelname)s]%(asctime)s <P%(process)d-%(threadName)s> %(message)s')\n    # test on multiple streams\n    stream1_config = {\n        \"generator\": accel_generator.normal_dist,\n        'kwargs': {\n            \"grange\": 8,\n            \"buffer_size\": 100,\n            \"sleep_interval\": 0,\n            \"sigma\": 1,\n            \"sr\": 80\n        }\n    }\n\n    stream2_config = {\n        \"generator\": annot_generator.normal_dist,\n        'kwargs': {\n            \"duration_mu\": 8,\n            \"duration_sigma\": 2,\n            \"sleep_interval\": 1,\n            \"num_mu\": 3,\n            \"labels\": [\"Sitting\", 'Standing', 'Lying', 'Walking', 'Running']\n        }\n    }\n\n    window_size = 12.8\n    sr = 80\n    start_time = datetime.now()\n    stream1 = GeneratorSlidingWindowStream(\n        stream1_config, window_size=window_size, start_time_col=0, stop_time_col=0, name='sensor-stream')\n    stream2 = GeneratorSlidingWindowStream(\n        stream2_config, window_size=window_size, start_time_col=1, stop_time_col=2, name='annotation-stream')\n\n    pipeline = Pipeline(max_processes=2)\n    pipeline.add_stream(stream1)\n    pipeline.add_stream(stream2)\n    pipeline.set_processor(_pipeline_test_processor)\n    pipeline.start(start_time=start_time)\n    results = []\n    for result, st, et, prev_st, prev_et, name in pipeline.get_iterator():\n        print(st)\n        result['WINDOW_ST'] = st\n        result['WINDOW_ET'] = et\n        result['PREV_WINDOW_ST'] = prev_st\n        result['PREV_WINDOW_ET'] = prev_et\n        result['STREAM_NAME'] = name\n        results.append(result)\n        if len(results) == 10:\n            break\n    pipeline.stop()\n    print(pd.concat(results, axis=0, sort=False))"
      ]
    }
  ],
  "metadata": {
    "kernelspec": {
      "display_name": "Python 3",
      "language": "python",
      "name": "python3"
    },
    "language_info": {
      "codemirror_mode": {
        "name": "ipython",
        "version": 3
      },
      "file_extension": ".py",
      "mimetype": "text/x-python",
      "name": "python",
      "nbconvert_exporter": "python",
      "pygments_lexer": "ipython3",
      "version": "3.7.5"
    }
  },
  "nbformat": 4,
  "nbformat_minor": 0
}