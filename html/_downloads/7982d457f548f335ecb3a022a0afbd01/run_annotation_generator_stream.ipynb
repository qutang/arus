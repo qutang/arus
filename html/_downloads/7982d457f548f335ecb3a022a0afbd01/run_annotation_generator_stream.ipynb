{
  "cells": [
    {
      "cell_type": "code",
      "execution_count": null,
      "metadata": {
        "collapsed": false
      },
      "outputs": [],
      "source": [
        "%matplotlib inline"
      ]
    },
    {
      "cell_type": "markdown",
      "metadata": {},
      "source": [
        "\nStream using annotation generator\n=================================\n"
      ]
    },
    {
      "cell_type": "code",
      "execution_count": null,
      "metadata": {
        "collapsed": false
      },
      "outputs": [],
      "source": [
        "from arus.core.annotation.generator import normal_dist\nfrom arus.core.stream.generator_stream import GeneratorSlidingWindowStream\n\nif __name__ == \"__main__\":\n    data_source = {\n        \"generator\": normal_dist,\n        \"kwargs\": {\n            \"duration_mu\": 5,\n            \"duration_sigma\": 1,\n            \"num_mu\": 3,\n            \"labels\": ['Sitting', 'Standing', 'Lying'],\n            \"sleep_interval\": 0\n        }\n    }\n\n    stream = GeneratorSlidingWindowStream(data_source, window_size=12.8,\n                                          simulate_reality=False, start_time_col=1, stop_time_col=2, name='annotator-generator-stream')\n    stream.start()\n\n    n = 5\n    for window, st, et, prev_st, prev_et, name in stream.get_iterator():\n        print(\"{}-{}-{}\".format(window.iloc[0, 0],\n                                window.iloc[-1, 0], '-'.join(window.iloc[:, 3])))\n        n -= 1\n        if n == 0:\n            break\n    stream.stop()"
      ]
    }
  ],
  "metadata": {
    "kernelspec": {
      "display_name": "Python 3",
      "language": "python",
      "name": "python3"
    },
    "language_info": {
      "codemirror_mode": {
        "name": "ipython",
        "version": 3
      },
      "file_extension": ".py",
      "mimetype": "text/x-python",
      "name": "python",
      "nbconvert_exporter": "python",
      "pygments_lexer": "ipython3",
      "version": "3.7.5"
    }
  },
  "nbformat": 4,
  "nbformat_minor": 0
}