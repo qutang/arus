{
  "cells": [
    {
      "cell_type": "code",
      "execution_count": null,
      "metadata": {
        "collapsed": false
      },
      "outputs": [],
      "source": [
        "%matplotlib inline"
      ]
    },
    {
      "cell_type": "markdown",
      "metadata": {},
      "source": [
        "\nDemonstration of the usage of arus.core.stream.GeneratorSlidingWindowStream\n================================================================================\n"
      ]
    },
    {
      "cell_type": "code",
      "execution_count": null,
      "metadata": {
        "collapsed": false
      },
      "outputs": [],
      "source": [
        "from arus.core.stream.sensor_stream import SensorFileSlidingWindowStream\nfrom arus.testing import load_test_data\nfrom glob import glob\nimport os\nimport numpy as np\nimport pandas as pd\nimport matplotlib.pyplot as plt\nimport logging\n\nif __name__ == \"__main__\":\n    logging.basicConfig(\n        level=logging.DEBUG, format='[%(levelname)s]%(asctime)s <P%(process)d-%(threadName)s> %(message)s')\n    window_size = 2\n    files, sr = load_test_data(file_type='mhealth',\n                               file_num='multiple', exception_type='consistent_sr')\n    stream = SensorFileSlidingWindowStream(\n        data_source=files, window_size=window_size, sr=sr, buffer_size=900, storage_format='mhealth', simulate_reality=True, name='spades_2')\n    stream.start()\n    chunk_sizes = []\n    for data, _, _, _, _, name in stream.get_iterator():\n        print(\"{},{},{}\".format(\n            data.iloc[0, 0], data.iloc[-1, 0], data.shape[0]))\n        chunk_sizes.append(data.shape[0])\n        if len(chunk_sizes) == 5:\n            break\n    stream.stop()\n    pd.Series(chunk_sizes).plot(\n        title='chunk sizes of the given stream with \\nwindow size of ' + str(window_size) + ' seconds, sampling rate at ' + str(sr) + ' Hz')\n    plt.hlines(y=sr * window_size, xmin=0,\n               xmax=len(chunk_sizes), linestyles='dashed')\n    plt.show()"
      ]
    }
  ],
  "metadata": {
    "kernelspec": {
      "display_name": "Python 3",
      "language": "python",
      "name": "python3"
    },
    "language_info": {
      "codemirror_mode": {
        "name": "ipython",
        "version": 3
      },
      "file_extension": ".py",
      "mimetype": "text/x-python",
      "name": "python",
      "nbconvert_exporter": "python",
      "pygments_lexer": "ipython3",
      "version": "3.7.5"
    }
  },
  "nbformat": 4,
  "nbformat_minor": 0
}