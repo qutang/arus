{
  "cells": [
    {
      "cell_type": "code",
      "execution_count": null,
      "metadata": {
        "collapsed": false
      },
      "outputs": [],
      "source": [
        "%matplotlib inline"
      ]
    },
    {
      "cell_type": "markdown",
      "metadata": {},
      "source": [
        "\nDemonstration of the usage of MhealthFileBroadcaster\n====================================================\n"
      ]
    },
    {
      "cell_type": "code",
      "execution_count": null,
      "metadata": {
        "collapsed": false
      },
      "outputs": [],
      "source": [
        "from arus.core.broadcaster import MhealthFileBroadcaster\nfrom arus.core.stream import SensorFileStream\nfrom arus.core.libs.mhealth_format.logging import display_start_and_stop_time\nfrom arus.testing import load_test_data\nimport logging\n\nif __name__ == \"__main__\":\n    logging.basicConfig(\n        level=logging.DEBUG, format='[%(levelname)s]%(asctime)s <P%(process)d-%(threadName)s> %(message)s')\n    data, sr = load_test_data(file_type='actigraph',\n                              file_num='single', exception_type='consistent_sr')\n    streamer = SensorFileStream(\n        data_source=data, sr=sr, window_size=3600, storage_format='actigraph', buffer_size=3600, name='test-actigraph-data')\n    broadcaster = MhealthFileBroadcaster(\n        name='test-actigraph-data-broadcaster')\n    streamer.start(scheduler='thread')\n    broadcaster.start(scheduler='thread', output_folder='./outputs/', pid='SPADES_12', file_type='sensor',\n                      sensor_or_annotation_type='ActigraphGT9X',\n                      data_type='AccelerationCalibrated',\n                      version_code='NA',\n                      sensor_or_annotator_id='TAS1E2XXXXX',\n                      split_hours=True,\n                      flat=True)\n    for data in streamer.get_iterator():\n        logging.info('Loaded {}'.format(\n            display_start_and_stop_time(data, file_type='sensor')))\n        broadcaster.send_data(data)\n    broadcaster.send_data(None)\n    streamer.stop()\n    broadcaster.wait_to_finish()\n    logging.info('finished')"
      ]
    }
  ],
  "metadata": {
    "kernelspec": {
      "display_name": "Python 3",
      "language": "python",
      "name": "python3"
    },
    "language_info": {
      "codemirror_mode": {
        "name": "ipython",
        "version": 3
      },
      "file_extension": ".py",
      "mimetype": "text/x-python",
      "name": "python",
      "nbconvert_exporter": "python",
      "pygments_lexer": "ipython3",
      "version": "3.7.5"
    }
  },
  "nbformat": 4,
  "nbformat_minor": 0
}