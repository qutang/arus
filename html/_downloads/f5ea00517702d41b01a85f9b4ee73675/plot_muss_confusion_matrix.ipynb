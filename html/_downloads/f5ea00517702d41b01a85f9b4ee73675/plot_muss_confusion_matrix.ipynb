{
  "cells": [
    {
      "cell_type": "code",
      "execution_count": null,
      "metadata": {
        "collapsed": false
      },
      "outputs": [],
      "source": [
        "%matplotlib inline"
      ]
    },
    {
      "cell_type": "markdown",
      "metadata": {},
      "source": [
        "\nPlot confusion matrix\n=====================\n"
      ]
    },
    {
      "cell_type": "code",
      "execution_count": null,
      "metadata": {
        "collapsed": false
      },
      "outputs": [],
      "source": [
        "from arus.models.muss import MUSSModel\nimport matplotlib.pyplot as plt\nmuss = MUSSModel()\ninput_class = ['Sit', 'Stand', 'Stand', 'Walk']\npredict_class = ['Sit', 'Walk', 'Stand', 'Stand']\nfig = muss.get_confusion_matrix(input_class, predict_class, labels=[\n    'Sit', 'Stand', 'Walk'], graph=True)\n\ndf = muss.get_confusion_matrix(input_class, predict_class, labels=[\n    'Sit', 'Stand', 'Walk'], graph=False)\n\nprint(df)"
      ]
    }
  ],
  "metadata": {
    "kernelspec": {
      "display_name": "Python 3",
      "language": "python",
      "name": "python3"
    },
    "language_info": {
      "codemirror_mode": {
        "name": "ipython",
        "version": 3
      },
      "file_extension": ".py",
      "mimetype": "text/x-python",
      "name": "python",
      "nbconvert_exporter": "python",
      "pygments_lexer": "ipython3",
      "version": "3.7.5"
    }
  },
  "nbformat": 4,
  "nbformat_minor": 0
}