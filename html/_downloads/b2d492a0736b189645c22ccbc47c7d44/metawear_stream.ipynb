{
  "cells": [
    {
      "cell_type": "code",
      "execution_count": null,
      "metadata": {
        "collapsed": false
      },
      "outputs": [],
      "source": [
        "%matplotlib inline"
      ]
    },
    {
      "cell_type": "markdown",
      "metadata": {},
      "source": [
        "\nDemonstration of the usage of arus.plugins.metawear.stream.MetaWearSlidingWindowStream\n================================================================================\n"
      ]
    },
    {
      "cell_type": "code",
      "execution_count": null,
      "metadata": {
        "collapsed": false
      },
      "outputs": [],
      "source": [
        "from arus.plugins.metawear.stream import MetaWearSlidingWindowStream\nimport logging\nfrom datetime import datetime\n\nif __name__ == \"__main__\":\n    logging.basicConfig(\n        level=logging.DEBUG, format='[%(levelname)s]%(asctime)s <P%(process)d-%(threadName)s> %(message)s')\n    stream = MetaWearSlidingWindowStream(\"FF:EE:B8:99:0C:64\", sr=50, grange=8,\n                                         window_size=4, max_retries=10, name='metawear-stream')\n    stream.start()\n    i = 0\n    for data, _, _, _, _, _ in stream.get_iterator():\n        if data.empty:\n            print(data)\n            continue\n        i = i + 1\n        print(data.head())\n        if i == 2:\n            break\n    stream.stop()"
      ]
    }
  ],
  "metadata": {
    "kernelspec": {
      "display_name": "Python 3",
      "language": "python",
      "name": "python3"
    },
    "language_info": {
      "codemirror_mode": {
        "name": "ipython",
        "version": 3
      },
      "file_extension": ".py",
      "mimetype": "text/x-python",
      "name": "python",
      "nbconvert_exporter": "python",
      "pygments_lexer": "ipython3",
      "version": "3.7.5"
    }
  },
  "nbformat": 4,
  "nbformat_minor": 0
}