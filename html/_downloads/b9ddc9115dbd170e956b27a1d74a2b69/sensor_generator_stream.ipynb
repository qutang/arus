{
  "cells": [
    {
      "cell_type": "code",
      "execution_count": null,
      "metadata": {
        "collapsed": false
      },
      "outputs": [],
      "source": [
        "%matplotlib inline"
      ]
    },
    {
      "cell_type": "markdown",
      "metadata": {},
      "source": [
        "\nDemonstration of the usage of arus.core.stream.GeneratorSlidingWindowStream\n================================================================================\n"
      ]
    },
    {
      "cell_type": "code",
      "execution_count": null,
      "metadata": {
        "collapsed": false
      },
      "outputs": [],
      "source": [
        "from arus.core.stream.generator_stream import GeneratorSlidingWindowStream\nfrom arus.core.accelerometer.generator import normal_dist\n\nif __name__ == \"__main__\":\n    data_source = {'generator': normal_dist, 'kwargs': {\n        \"grange\": 4,\n        \"buffer_size\": 1800,\n        \"sleep_interval\": 1,\n        \"sigma\": 1,\n        \"sr\": 80\n    }}\n    stream = GeneratorSlidingWindowStream(data_source,\n                                          window_size=12.8,  simulate_reality=False,\n                                          start_time_col=0, stop_time_col=0, name='sensor-generator-stream')\n    stream.start()\n\n    n = 5\n    for window, st, et, prev_st, prev_et, name in stream.get_iterator():\n        print(\n            \"{}-{}-{}\".format(window.iloc[0, 0], window.iloc[-1, 0], window.shape))\n        n -= 1\n        if n == 0:\n            break\n    stream.stop()"
      ]
    }
  ],
  "metadata": {
    "kernelspec": {
      "display_name": "Python 3",
      "language": "python",
      "name": "python3"
    },
    "language_info": {
      "codemirror_mode": {
        "name": "ipython",
        "version": 3
      },
      "file_extension": ".py",
      "mimetype": "text/x-python",
      "name": "python",
      "nbconvert_exporter": "python",
      "pygments_lexer": "ipython3",
      "version": "3.7.5"
    }
  },
  "nbformat": 4,
  "nbformat_minor": 0
}