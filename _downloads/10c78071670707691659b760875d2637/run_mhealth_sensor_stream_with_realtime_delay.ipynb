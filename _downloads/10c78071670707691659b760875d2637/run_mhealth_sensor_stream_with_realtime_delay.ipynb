{
  "cells": [
    {
      "cell_type": "code",
      "execution_count": null,
      "metadata": {
        "collapsed": false
      },
      "outputs": [],
      "source": [
        "%matplotlib inline"
      ]
    },
    {
      "cell_type": "markdown",
      "metadata": {},
      "source": [
        "\nStream using mhealth data files with real-time delay\n================================================================================\n\nThis example shows how to simulate real-time sensor streaming using existing data files.\n"
      ]
    },
    {
      "cell_type": "markdown",
      "metadata": {},
      "source": [
        "Imports\n--------\n\n"
      ]
    },
    {
      "cell_type": "code",
      "execution_count": null,
      "metadata": {
        "collapsed": false
      },
      "outputs": [],
      "source": [
        "import logging\nimport os\nfrom glob import glob\nimport time\n\nimport matplotlib.pyplot as plt\nimport numpy as np\nimport pandas as pd\n\nfrom arus.core.stream import SensorFileSlidingWindowStream\nfrom arus.testing import load_test_data"
      ]
    },
    {
      "cell_type": "markdown",
      "metadata": {},
      "source": [
        "Turn on logging info\n-----------------------\n\n"
      ]
    },
    {
      "cell_type": "code",
      "execution_count": null,
      "metadata": {
        "collapsed": false
      },
      "outputs": [],
      "source": [
        "logging.basicConfig(\n    level=logging.DEBUG, format='[%(levelname)s]%(asctime)s <P%(process)d-%(threadName)s> %(message)s')"
      ]
    },
    {
      "cell_type": "markdown",
      "metadata": {},
      "source": [
        "Load test mhealth data files\n-----------------------------\n\n"
      ]
    },
    {
      "cell_type": "code",
      "execution_count": null,
      "metadata": {
        "collapsed": false
      },
      "outputs": [],
      "source": [
        "files, sr = load_test_data(file_type='mhealth',\n                           file_num='multiple',\n                           exception_type='consistent_sr')"
      ]
    },
    {
      "cell_type": "markdown",
      "metadata": {},
      "source": [
        "Setup stream\n--------------\nTo simulate real-time streaming delay, set `simulate_reality` to be `True`.\n\n"
      ]
    },
    {
      "cell_type": "code",
      "execution_count": null,
      "metadata": {
        "collapsed": false
      },
      "outputs": [],
      "source": [
        "window_size = 1\nstream = SensorFileSlidingWindowStream(data_source=files,\n                                       window_size=window_size,\n                                       sr=sr,\n                                       buffer_size=900,\n                                       storage_format='mhealth',\n                                       simulate_reality=True,\n                                       name='spades_2')"
      ]
    },
    {
      "cell_type": "markdown",
      "metadata": {},
      "source": [
        "Start stream and read in data\n------------------------------\nTo save time, only run for three windows, in total 3 seconds.\n\n"
      ]
    },
    {
      "cell_type": "code",
      "execution_count": null,
      "metadata": {
        "collapsed": false
      },
      "outputs": [],
      "source": [
        "st = time.time()\nstream.start()\nchunk_sizes = []\nfor data, _, _, _, _, name in stream.get_iterator():\n    print(\"{},{},{}\".format(\n        data.iloc[0, 0], data.iloc[-1, 0], data.shape[0]))\n    chunk_sizes.append(data.shape[0])\n    if len(chunk_sizes) == 3:\n        break\nlapsed_seconds = time.time() - st\nprint('Stream has run for ' + str(lapsed_seconds) + ' seconds.')"
      ]
    },
    {
      "cell_type": "markdown",
      "metadata": {},
      "source": [
        "Stop stream\n-------------\n\n"
      ]
    },
    {
      "cell_type": "code",
      "execution_count": null,
      "metadata": {
        "collapsed": false
      },
      "outputs": [],
      "source": [
        "stream.stop()"
      ]
    },
    {
      "cell_type": "markdown",
      "metadata": {},
      "source": [
        "Plot stats of received data\n-----------------------------\n\n"
      ]
    },
    {
      "cell_type": "code",
      "execution_count": null,
      "metadata": {
        "collapsed": false
      },
      "outputs": [],
      "source": [
        "pd.Series(chunk_sizes).plot(\n    title='chunk sizes of the given stream with \\nwindow size of ' + str(window_size) + ' seconds, sampling rate at ' + str(sr) + ' Hz')\nfig = plt.hlines(y=sr * window_size,\n                 xmin=0,\n                 xmax=len(chunk_sizes),\n                 linestyles='dashed')"
      ]
    }
  ],
  "metadata": {
    "kernelspec": {
      "display_name": "Python 3",
      "language": "python",
      "name": "python3"
    },
    "language_info": {
      "codemirror_mode": {
        "name": "ipython",
        "version": 3
      },
      "file_extension": ".py",
      "mimetype": "text/x-python",
      "name": "python",
      "nbconvert_exporter": "python",
      "pygments_lexer": "ipython3",
      "version": "3.7.5"
    }
  },
  "nbformat": 4,
  "nbformat_minor": 0
}