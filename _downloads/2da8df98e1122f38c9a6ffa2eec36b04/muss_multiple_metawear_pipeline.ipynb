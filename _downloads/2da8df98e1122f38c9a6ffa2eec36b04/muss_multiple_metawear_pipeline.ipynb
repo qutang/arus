{
  "cells": [
    {
      "cell_type": "code",
      "execution_count": null,
      "metadata": {
        "collapsed": false
      },
      "outputs": [],
      "source": [
        "%matplotlib inline"
      ]
    },
    {
      "cell_type": "markdown",
      "metadata": {},
      "source": [
        "\nDemonstration of the usage of arus.models.muss.get_inference_pipeline\n=====================================================================\n\nThe pipeline uses multiple metawear streams.\n"
      ]
    },
    {
      "cell_type": "code",
      "execution_count": null,
      "metadata": {
        "collapsed": false
      },
      "outputs": [],
      "source": [
        "from arus.models.muss import MUSSModel\nfrom arus.testing import load_test_data\nimport pandas as pd\nfrom arus.plugins.metawear.stream import MetaWearSlidingWindowStream\nfrom arus.core.accelerometer import generator\nfrom datetime import datetime\nimport logging\n\n\ndef train_test_classifier(muss):\n    feature_filepath, _ = load_test_data(file_type='mhealth', sensor_type='feature',\n                                         file_num='single', exception_type='multi_placements')\n    class_filepath, _ = load_test_data(file_type='mhealth', sensor_type='class_labels',\n                                       file_num='single', exception_type='multi_tasks')\n    feature_set = pd.read_csv(\n        feature_filepath, infer_datetime_format=True, parse_dates=[0, 1, 2])\n    dw_feature_set = feature_set.loc[feature_set['SENSOR_PLACEMENT'] == 'DW', [\n        'HEADER_TIME_STAMP', 'START_TIME', 'STOP_TIME'] + muss.get_feature_names()]\n    da_feature_set = feature_set.loc[feature_set['SENSOR_PLACEMENT'] == 'DA', [\n        'HEADER_TIME_STAMP', 'START_TIME', 'STOP_TIME'] + muss.get_feature_names()]\n    combined_feature_set, feature_names = muss.combine_features(\n        dw_feature_set, da_feature_set, placement_names=['DW', 'DA'], group_col=None)\n    class_set = pd.read_csv(\n        class_filepath, infer_datetime_format=True, parse_dates=[0, 1, 2])\n    class_set = class_set[['HEADER_TIME_STAMP',\n                           'START_TIME', 'STOP_TIME', 'MUSS_3_POSTURES']]\n    input_feature, input_class = muss.sync_feature_and_class(\n        combined_feature_set, class_set)\n    filtered_feature, filtered_class = muss.remove_classes(\n        input_feature, input_class, class_col='MUSS_3_POSTURES', classes_to_remove=['Unknown', 'Transition'])\n    model = muss.train_classifier(\n        filtered_feature, filtered_class, class_col='MUSS_3_POSTURES', feature_names=feature_names, placement_names=['DW', 'DA'])\n    return model\n\n\ndef prepare_streams():\n\n    stream1 = MetaWearSlidingWindowStream(\"D2:C6:AF:2B:DB:22\", sr=50, grange=8,\n                                          window_size=12.8, name='DW')\n    stream2 = MetaWearSlidingWindowStream(\"FF:EE:B8:99:0C:64\", sr=100, grange=8,\n                                          window_size=12.8, name='DA')\n    return stream1, stream2\n\n\nif __name__ == \"__main__\":\n    logging.basicConfig(\n        level=logging.INFO, format='[%(levelname)s]%(asctime)s <P%(process)d-%(threadName)s> %(message)s')\n    muss = MUSSModel()\n    model = train_test_classifier(muss)\n    stream1, stream2 = prepare_streams()\n    kwargs = {\n        'DW': {\n            'sr': 50\n        },\n        'DA': {\n            'sr': 100\n        },\n        'model': model,\n        'scheduler': 'processes',\n        'max_processes': 2\n    }\n    start_time = datetime.now()\n    muss_pipeline = muss.get_inference_pipeline(\n        stream1, stream2, name='muss-pipeline', **kwargs)\n    muss_pipeline.start(start_time=start_time, process_start_time=start_time)\n    i = 0\n    for data, st, et, _, _, name in muss_pipeline.get_iterator(timeout=0.2):\n        if data is None:\n            continue\n        i = i + 1\n        print(str(datetime.now()) + ': ' + str(st) + ' - ' + str(et))\n        print(model[0].classes_)\n        print(data)\n        if i == 5:\n            break\n    muss_pipeline.stop()"
      ]
    }
  ],
  "metadata": {
    "kernelspec": {
      "display_name": "Python 3",
      "language": "python",
      "name": "python3"
    },
    "language_info": {
      "codemirror_mode": {
        "name": "ipython",
        "version": 3
      },
      "file_extension": ".py",
      "mimetype": "text/x-python",
      "name": "python",
      "nbconvert_exporter": "python",
      "pygments_lexer": "ipython3",
      "version": "3.7.5"
    }
  },
  "nbformat": 4,
  "nbformat_minor": 0
}