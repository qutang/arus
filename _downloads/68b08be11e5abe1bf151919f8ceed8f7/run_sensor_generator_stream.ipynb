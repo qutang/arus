{
  "cells": [
    {
      "cell_type": "code",
      "execution_count": null,
      "metadata": {
        "collapsed": false
      },
      "outputs": [],
      "source": [
        "%matplotlib inline"
      ]
    },
    {
      "cell_type": "markdown",
      "metadata": {},
      "source": [
        "\nStream using accelerometer generator\n================================================================================\n"
      ]
    },
    {
      "cell_type": "markdown",
      "metadata": {},
      "source": [
        "Imports\n---------\n\n"
      ]
    },
    {
      "cell_type": "code",
      "execution_count": null,
      "metadata": {
        "collapsed": false
      },
      "outputs": [],
      "source": [
        "from arus.core.stream import GeneratorSlidingWindowStream\nfrom arus.core.accelerometer.generator import normal_dist"
      ]
    },
    {
      "cell_type": "markdown",
      "metadata": {},
      "source": [
        "Setup accelerometer generator\n-----------------------------\n\n`kwargs` will be passed to `normal_dist` when generating the stream\nThe generated stream data will be stored as pandas DataFrame with mHealth Specification.\n\n"
      ]
    },
    {
      "cell_type": "code",
      "execution_count": null,
      "metadata": {
        "collapsed": false
      },
      "outputs": [],
      "source": [
        "data_source = {'generator': normal_dist, 'kwargs': {\n    \"grange\": 4,\n    \"buffer_size\": 1800,\n    \"sleep_interval\": 1,\n    \"sigma\": 1,\n    \"sr\": 80\n}}"
      ]
    },
    {
      "cell_type": "markdown",
      "metadata": {},
      "source": [
        "Setup stream\n-------------\n\n"
      ]
    },
    {
      "cell_type": "code",
      "execution_count": null,
      "metadata": {
        "collapsed": false
      },
      "outputs": [],
      "source": [
        "stream = GeneratorSlidingWindowStream(data_source,\n                                      window_size=12.8,\n                                      simulate_reality=False,\n                                      start_time_col=0,\n                                      stop_time_col=0,\n                                      name='sensor-generator-stream')"
      ]
    },
    {
      "cell_type": "markdown",
      "metadata": {},
      "source": [
        "Start stream and get data from the stream\n------------------------------------------\n\nYou may use `stream.get_iterator()` to return a generator to read data from a stream.\n\n"
      ]
    },
    {
      "cell_type": "code",
      "execution_count": null,
      "metadata": {
        "collapsed": false
      },
      "outputs": [],
      "source": [
        "stream.start()\nn = 5\nfor window, st, et, prev_st, prev_et, name in stream.get_iterator():\n    print(\n        \"{}-{}-{}\".format(window.iloc[0, 0], window.iloc[-1, 0], window.shape))\n    n -= 1\n    if n == 0:\n        break"
      ]
    },
    {
      "cell_type": "markdown",
      "metadata": {},
      "source": [
        "Stop stream\n------------------------------------------\n\n"
      ]
    },
    {
      "cell_type": "code",
      "execution_count": null,
      "metadata": {
        "collapsed": false
      },
      "outputs": [],
      "source": [
        "stream.stop()"
      ]
    }
  ],
  "metadata": {
    "kernelspec": {
      "display_name": "Python 3",
      "language": "python",
      "name": "python3"
    },
    "language_info": {
      "codemirror_mode": {
        "name": "ipython",
        "version": 3
      },
      "file_extension": ".py",
      "mimetype": "text/x-python",
      "name": "python",
      "nbconvert_exporter": "python",
      "pygments_lexer": "ipython3",
      "version": "3.7.5"
    }
  },
  "nbformat": 4,
  "nbformat_minor": 0
}