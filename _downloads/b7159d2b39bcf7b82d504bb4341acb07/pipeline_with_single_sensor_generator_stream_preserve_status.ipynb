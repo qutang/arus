{
  "cells": [
    {
      "cell_type": "code",
      "execution_count": null,
      "metadata": {
        "collapsed": false
      },
      "outputs": [],
      "source": [
        "%matplotlib inline"
      ]
    },
    {
      "cell_type": "markdown",
      "metadata": {},
      "source": [
        "\nDemonstration of the usage of arus.core.pipeline\n=====================================================================\n\nThis example shows how to pass previous output and input to processor for a pipeline.\n"
      ]
    },
    {
      "cell_type": "code",
      "execution_count": null,
      "metadata": {
        "collapsed": false
      },
      "outputs": [],
      "source": [
        "from arus.core.pipeline import Pipeline\nfrom arus.core.stream import GeneratorSlidingWindowStream\nfrom arus.core.accelerometer import generator\nfrom datetime import datetime\nimport pandas as pd\n\n\ndef _pipeline_test_processor(chunk_list, prev_input=None, prev_output=None, **kwargs):\n    import pandas as pd\n    result = {'NAME': [],\n              'START_TIME': [], 'STOP_TIME': []}\n    for data, st, et, prev_st, prev_et, name in chunk_list:\n        result['NAME'].append(name)\n        result['START_TIME'].append(data.iloc[0, 0])\n        result['STOP_TIME'].append(data.iloc[-1, 0])\n    result = pd.DataFrame.from_dict(result)\n    if prev_output is not None:\n        result['PREV_START_TIME'] = prev_output['START_TIME']\n        result['PREV_STOP_TIME'] = prev_output['STOP_TIME']\n    else:\n        result['PREV_START_TIME'] = None\n        result['PREV_STOP_TIME'] = None\n    return result\n\n\nif __name__ == \"__main__\":\n    # test on a single stream\n    stream1_config = {\n        \"generator\": generator.normal_dist,\n        'kwargs': {\n            \"grange\": 8,\n            \"buffer_size\": 100,\n            \"sleep_interval\": 0,\n            \"sigma\": 1,\n            \"sr\": 80\n        }\n    }\n\n    window_size = 12.8\n    stream1 = GeneratorSlidingWindowStream(\n        stream1_config, window_size=window_size, start_time_col=0, stop_time_col=0, name='stream-1')\n\n    pipeline = Pipeline(\n        max_processes=2, scheduler='processes', preserve_status=True)\n    pipeline.add_stream(stream1)\n    pipeline.set_processor(_pipeline_test_processor)\n    pipeline.start()\n    results = []\n    prev_results = []\n    for result, st, et, prev_st, prev_et, name in pipeline.get_iterator():\n        print(st)\n        result['WINDOW_ST'] = st\n        result['WINDOW_ET'] = et\n        result['PREV_WINDOW_ST'] = prev_st\n        result['PREV_WINDOW_ET'] = prev_et\n        result['STREAM_NAME'] = name\n        results.append(result)\n\n        if len(results) == 10:\n            break\n    pipeline.stop()\n    print(pd.concat(results, axis=0, sort=False))"
      ]
    }
  ],
  "metadata": {
    "kernelspec": {
      "display_name": "Python 3",
      "language": "python",
      "name": "python3"
    },
    "language_info": {
      "codemirror_mode": {
        "name": "ipython",
        "version": 3
      },
      "file_extension": ".py",
      "mimetype": "text/x-python",
      "name": "python",
      "nbconvert_exporter": "python",
      "pygments_lexer": "ipython3",
      "version": "3.7.5"
    }
  },
  "nbformat": 4,
  "nbformat_minor": 0
}