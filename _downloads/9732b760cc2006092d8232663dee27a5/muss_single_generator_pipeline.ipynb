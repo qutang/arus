{
  "cells": [
    {
      "cell_type": "code",
      "execution_count": null,
      "metadata": {
        "collapsed": false
      },
      "outputs": [],
      "source": [
        "%matplotlib inline"
      ]
    },
    {
      "cell_type": "markdown",
      "metadata": {},
      "source": [
        "\nDemonstration of the usage of arus.models.muss.get_inference_pipeline\n=====================================================================\n\nThe pipeline uses a single sensor generator stream.\n"
      ]
    },
    {
      "cell_type": "code",
      "execution_count": null,
      "metadata": {
        "collapsed": false
      },
      "outputs": [],
      "source": [
        "from arus.models.muss import MUSSModel\nfrom arus.testing import load_test_data\nimport pandas as pd\nfrom arus.core.stream.generator_stream import GeneratorSlidingWindowStream\nfrom arus.core.accelerometer import generator\nfrom datetime import datetime\n\n\ndef train_test_classifier(muss):\n    feature_filepath, _ = load_test_data(file_type='mhealth', sensor_type='feature',\n                                         file_num='single', exception_type='single_placement')\n    class_filepath, _ = load_test_data(file_type='mhealth', sensor_type='class_labels',\n                                       file_num='single', exception_type='multi_tasks')\n    feature_set = pd.read_csv(\n        feature_filepath, infer_datetime_format=True, parse_dates=[0, 1, 2])\n    feature_set = feature_set[['HEADER_TIME_STAMP',\n                               'START_TIME', 'STOP_TIME'] + muss.get_feature_names()]\n    class_set = pd.read_csv(\n        class_filepath, infer_datetime_format=True, parse_dates=[0, 1, 2])\n    class_set = class_set[['HEADER_TIME_STAMP',\n                           'START_TIME', 'STOP_TIME', 'MUSS_3_POSTURES']]\n    input_feature, input_class = muss.sync_feature_and_class(\n        feature_set, class_set)\n    filtered_feature, filtered_class = muss.remove_classes(\n        input_feature, input_class, class_col='MUSS_3_POSTURES', classes_to_remove=['Unknown', 'Transition'])\n    model = muss.train_classifier(\n        filtered_feature, filtered_class, class_col='MUSS_3_POSTURES', feature_names=muss.get_feature_names(), placement_names=['DW'])\n    return model\n\n\ndef prepare_streams():\n    stream1_config = {\n        \"generator\": generator.normal_dist,\n        'kwargs': {\n            \"grange\": 8,\n            \"start_time\": None,\n            \"buffer_size\": 100,\n            \"sleep_interval\": 0,\n            \"sigma\": 1,\n            \"sr\": 50\n        }\n    }\n\n    window_size = 12.8\n    start_time = datetime.now()\n    stream = GeneratorSlidingWindowStream(\n        stream1_config, window_size=window_size, start_time=start_time, start_time_col=0, stop_time_col=0, name='DW')\n    return stream\n\n\nif __name__ == \"__main__\":\n    muss = MUSSModel()\n    model = train_test_classifier(muss)\n    stream = prepare_streams()\n    muss_pipeline = muss.get_inference_pipeline(\n        stream, model=model, scheduler='processes', max_processes=2, DW={'sr': 50})\n    muss_pipeline.start()\n    i = 0\n    for data, _, _, _, _, name in muss_pipeline.get_iterator():\n        i = i + 1\n        print(data)\n        if i == 5:\n            break\n    muss_pipeline.stop()"
      ]
    }
  ],
  "metadata": {
    "kernelspec": {
      "display_name": "Python 3",
      "language": "python",
      "name": "python3"
    },
    "language_info": {
      "codemirror_mode": {
        "name": "ipython",
        "version": 3
      },
      "file_extension": ".py",
      "mimetype": "text/x-python",
      "name": "python",
      "nbconvert_exporter": "python",
      "pygments_lexer": "ipython3",
      "version": "3.7.5"
    }
  },
  "nbformat": 4,
  "nbformat_minor": 0
}