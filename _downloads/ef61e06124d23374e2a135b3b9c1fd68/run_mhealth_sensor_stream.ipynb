{
  "cells": [
    {
      "cell_type": "code",
      "execution_count": null,
      "metadata": {
        "collapsed": false
      },
      "outputs": [],
      "source": [
        "%matplotlib inline"
      ]
    },
    {
      "cell_type": "markdown",
      "metadata": {},
      "source": [
        "\nStream using mhealth sensor files\n================================================================================\n\nThis example demonstrates a stream that uses data files stored in mhealth specification as data source.\n"
      ]
    },
    {
      "cell_type": "markdown",
      "metadata": {},
      "source": [
        "Imports\n--------\n\n"
      ]
    },
    {
      "cell_type": "code",
      "execution_count": null,
      "metadata": {
        "collapsed": false
      },
      "outputs": [],
      "source": [
        "import logging\nimport os\nfrom glob import glob\n\nimport matplotlib.pyplot as plt\nimport numpy as np\nimport pandas as pd\n\nfrom arus.core.stream import SensorFileSlidingWindowStream\nfrom arus.testing import load_test_data"
      ]
    },
    {
      "cell_type": "markdown",
      "metadata": {},
      "source": [
        "Turn on logging information\n---------------------------\n\n"
      ]
    },
    {
      "cell_type": "code",
      "execution_count": null,
      "metadata": {
        "collapsed": false
      },
      "outputs": [],
      "source": [
        "logging.basicConfig(\n    level=logging.DEBUG, format='[%(levelname)s]%(asctime)s <P%(process)d-%(threadName)s> %(message)s')"
      ]
    },
    {
      "cell_type": "markdown",
      "metadata": {},
      "source": [
        "Get the test mhealth data files\n-------------------------------\n\n"
      ]
    },
    {
      "cell_type": "code",
      "execution_count": null,
      "metadata": {
        "collapsed": false
      },
      "outputs": [],
      "source": [
        "files, sr = load_test_data(file_type='mhealth',\n                           file_num='multiple', exception_type='inconsistent_sr')"
      ]
    },
    {
      "cell_type": "markdown",
      "metadata": {},
      "source": [
        "Setup stream\n--------------\n\n"
      ]
    },
    {
      "cell_type": "code",
      "execution_count": null,
      "metadata": {
        "collapsed": false
      },
      "outputs": [],
      "source": [
        "window_size = 12.8\nstream = SensorFileSlidingWindowStream(data_source=files,\n                                       window_size=window_size,\n                                       sr=sr,\n                                       buffer_size=900,\n                                       storage_format='mhealth',\n                                       name='spades_2')"
      ]
    },
    {
      "cell_type": "markdown",
      "metadata": {},
      "source": [
        "Start stream and read in data\n-----------------------------\n\n"
      ]
    },
    {
      "cell_type": "code",
      "execution_count": null,
      "metadata": {
        "collapsed": false
      },
      "outputs": [],
      "source": [
        "stream.start()\nchunk_sizes = []\nfor data, _, _, _, _, name in stream.get_iterator():\n    print(\"{},{},{}\".format(\n        data.iloc[0, 0], data.iloc[-1, 0], data.shape[0]))\n    chunk_sizes.append(data.shape[0])"
      ]
    },
    {
      "cell_type": "markdown",
      "metadata": {},
      "source": [
        "Stop stream\n------------\n\n"
      ]
    },
    {
      "cell_type": "code",
      "execution_count": null,
      "metadata": {
        "collapsed": false
      },
      "outputs": [],
      "source": [
        "stream.stop()"
      ]
    },
    {
      "cell_type": "markdown",
      "metadata": {},
      "source": [
        "Plot the stats of the received data\n------------------------------------\n\nThe plot shows there are two places where the sampling rate of the data drops. This is because the data files loaded have missing data at those moments. The test data is manipulated to include missing moments for test purpose.\n\n"
      ]
    },
    {
      "cell_type": "code",
      "execution_count": null,
      "metadata": {
        "collapsed": false
      },
      "outputs": [],
      "source": [
        "pd.Series(chunk_sizes).plot(\n    title='chunk sizes of the given stream with \\nwindow size of ' + str(window_size) + ' seconds, sampling rate at ' + str(sr) + ' Hz')\nfig = plt.hlines(y=sr * window_size,\n                 xmin=0,\n                 xmax=len(chunk_sizes),\n                 linestyles='dashed')"
      ]
    }
  ],
  "metadata": {
    "kernelspec": {
      "display_name": "Python 3",
      "language": "python",
      "name": "python3"
    },
    "language_info": {
      "codemirror_mode": {
        "name": "ipython",
        "version": 3
      },
      "file_extension": ".py",
      "mimetype": "text/x-python",
      "name": "python",
      "nbconvert_exporter": "python",
      "pygments_lexer": "ipython3",
      "version": "3.7.5"
    }
  },
  "nbformat": 4,
  "nbformat_minor": 0
}