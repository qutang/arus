{
  "cells": [
    {
      "cell_type": "code",
      "execution_count": null,
      "metadata": {
        "collapsed": false
      },
      "outputs": [],
      "source": [
        "%matplotlib inline"
      ]
    },
    {
      "cell_type": "markdown",
      "metadata": {},
      "source": [
        "\nDemonstration of the usage of arus.core.pipeline\n=====================================================================\n\nThis example shows how to start, stop, pause a pipeline.\n"
      ]
    },
    {
      "cell_type": "code",
      "execution_count": null,
      "metadata": {
        "collapsed": false
      },
      "outputs": [],
      "source": [
        "from arus.core.pipeline import Pipeline\nfrom arus.core.stream.generator_stream import GeneratorSlidingWindowStream\nfrom arus.core.accelerometer import generator\nfrom datetime import datetime\nimport pandas as pd\nimport time\nimport logging\n\n\ndef _pipeline_test_processor(chunk_list, **kwargs):\n    import pandas as pd\n    result = {'NAME': [],\n              'START_TIME': [], 'STOP_TIME': []}\n    for data, st, et, prev_st, prev_et, name in chunk_list:\n        result['NAME'].append(name)\n        result['START_TIME'].append(data.iloc[0, 0])\n        result['STOP_TIME'].append(data.iloc[-1, 0])\n    result = pd.DataFrame.from_dict(result)\n    return result\n\n\nif __name__ == \"__main__\":\n    # test on a single stream\n    stream1_config = {\n        \"generator\": generator.normal_dist,\n        'kwargs': {\n            \"grange\": 8,\n            \"buffer_size\": 100,\n            \"sleep_interval\": 0,\n            \"sigma\": 1,\n            \"sr\": 80\n        }\n    }\n\n    window_size = 2\n    start_time = datetime.now()\n    stream1 = GeneratorSlidingWindowStream(\n        stream1_config, window_size=window_size, simulate_reality=True, start_time_col=0, stop_time_col=0, name='stream-1')\n\n    pipeline = Pipeline(max_processes=2, scheduler='processes')\n    pipeline.add_stream(stream1)\n    pipeline.set_processor(_pipeline_test_processor)\n\n    # connect, there will be no incoming data, get_iteratnor will be blocking\n    pipeline.connect()\n    results = []\n    count_none = 0\n    for result, st, et, prev_st, prev_et, name in pipeline.get_iterator(timeout=0.1):\n        if result is not None:\n            print('Connect is not working')\n            assert False\n        else:\n            count_none = count_none + 1\n        if count_none == 50:\n            break\n    print('Connected yet no data is coming')\n    pipeline.stop()\n\n    # connect, wait for 3 seconds and then start processing, get_iterator will be blocking for 3 + 4 seconds until receiving the first window\n    pipeline.connect()\n    connect_time = pd.Timestamp(datetime.now())\n    print('Connect time: ' + str(connect_time))\n    count_none = 0\n    for result, st, et, prev_st, prev_et, name in pipeline.get_iterator(timeout=0.1):\n        if result is not None:\n            first_block_time = pd.Timestamp(datetime.now())\n            print('First block time: ' + str(first_block_time) + ', ' +\n                  str(first_block_time.timestamp() - connect_time.timestamp()) + ' seconds since connection.')\n            print('First block st: ' + str(st))\n            break\n        else:\n            count_none = count_none + 1\n        if count_none == 30:\n            process_time = pd.Timestamp(datetime.now())\n            pipeline.process(start_time=process_time)\n            print('Process time: ' + str(process_time) + ', ' +\n                  str(process_time.timestamp() - connect_time.timestamp()) + ' seconds since connection.')\n    print('Stop')\n    pipeline.stop()\n\n    # connect and process for 4 seconds and then pause for 2 seconds and then process again for 4 seconds\n    st = datetime.now()\n    pipeline.start(process_start_time=st)\n    print('Start at: ' + str(st))\n    count = 0\n    count_none = 0\n    restarted = False\n    stt = time.time() + 100000\n    for result, st, et, prev_st, prev_et, name in pipeline.get_iterator(timeout=0.1):\n        if result is not None:\n            count = count + 1\n            print('Blocks at: ' + str(st))\n            if count == 2:\n                print('Pause')\n                pipeline.pause()\n                stt = time.time()\n            if count == 4:\n                break\n        if time.time() - stt >= 2 and not restarted:\n            restarted = True\n            ts = datetime.now()\n            process_time = pd.Timestamp(ts)\n            pipeline.process(start_time=process_time)\n            print('Start again at:' + str(ts))\n\n    print('Stop')\n    pipeline.stop()"
      ]
    }
  ],
  "metadata": {
    "kernelspec": {
      "display_name": "Python 3",
      "language": "python",
      "name": "python3"
    },
    "language_info": {
      "codemirror_mode": {
        "name": "ipython",
        "version": 3
      },
      "file_extension": ".py",
      "mimetype": "text/x-python",
      "name": "python",
      "nbconvert_exporter": "python",
      "pygments_lexer": "ipython3",
      "version": "3.7.5"
    }
  },
  "nbformat": 4,
  "nbformat_minor": 0
}