{
  "cells": [
    {
      "cell_type": "code",
      "execution_count": null,
      "metadata": {
        "collapsed": false
      },
      "outputs": [],
      "source": [
        "%matplotlib inline"
      ]
    },
    {
      "cell_type": "markdown",
      "metadata": {},
      "source": [
        "\nDemonstration of the usage of arus.core.stream.AnnotationFileSlidingWindowStream\n================================================================================\n"
      ]
    },
    {
      "cell_type": "code",
      "execution_count": null,
      "metadata": {
        "collapsed": false
      },
      "outputs": [],
      "source": [
        "from arus.core.stream.annotation_stream import AnnotationFileSlidingWindowStream\nfrom arus.testing import load_test_data\nfrom glob import glob\nimport os\nimport numpy as np\nimport pandas as pd\nimport matplotlib.pyplot as plt\n\nif __name__ == \"__main__\":\n    window_size = 12.8\n    files, sr = load_test_data(file_type='mhealth', sensor_type='annotation',\n                               file_num='multiple', exception_type='no_missing')\n    stream = AnnotationFileSlidingWindowStream(\n        data_source=files, window_size=window_size, storage_format='mhealth', name='annotation-stream')\n    stream.start()\n    chunk_sizes = []\n    for data, _, _, _, _, name in stream.get_iterator():\n        if not data.empty:\n            chunk_sizes.append(\n                (data.iloc[-1, 2] - data.iloc[0, 1]) / pd.Timedelta(1, 's'))\n    stream.stop()\n    pd.Series(chunk_sizes).plot(\n        title='chunk sizes of the given stream with \\nwindow size of ' + str(window_size) + ' seconds')\n    plt.hlines(y=window_size, xmin=0,\n               xmax=len(chunk_sizes), linestyles='dashed')\n    plt.show()"
      ]
    }
  ],
  "metadata": {
    "kernelspec": {
      "display_name": "Python 3",
      "language": "python",
      "name": "python3"
    },
    "language_info": {
      "codemirror_mode": {
        "name": "ipython",
        "version": 3
      },
      "file_extension": ".py",
      "mimetype": "text/x-python",
      "name": "python",
      "nbconvert_exporter": "python",
      "pygments_lexer": "ipython3",
      "version": "3.7.5"
    }
  },
  "nbformat": 4,
  "nbformat_minor": 0
}