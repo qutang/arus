{
  "cells": [
    {
      "cell_type": "code",
      "execution_count": null,
      "metadata": {
        "collapsed": false
      },
      "outputs": [],
      "source": [
        "%matplotlib inline"
      ]
    },
    {
      "cell_type": "markdown",
      "metadata": {},
      "source": [
        "\nStream using annotation generator\n=================================\n"
      ]
    },
    {
      "cell_type": "markdown",
      "metadata": {},
      "source": [
        "Imports\n--------\n\n"
      ]
    },
    {
      "cell_type": "code",
      "execution_count": null,
      "metadata": {
        "collapsed": false
      },
      "outputs": [],
      "source": [
        "from arus.core.annotation.generator import normal_dist\nfrom arus.core.stream import GeneratorSlidingWindowStream"
      ]
    },
    {
      "cell_type": "markdown",
      "metadata": {},
      "source": [
        "Set up annotation generator\n---------------------------\n\n`kwargs` will be passed to `normal_dist` when generating the stream\nThe generated stream data will be stored as pandas DataFrame with mHealth Specification.\n\n"
      ]
    },
    {
      "cell_type": "code",
      "execution_count": null,
      "metadata": {
        "collapsed": false
      },
      "outputs": [],
      "source": [
        "data_source = {\n    \"generator\": normal_dist,\n    \"kwargs\": {\n        \"duration_mu\": 5,\n        \"duration_sigma\": 1,\n        \"num_mu\": 3,\n        \"labels\": ['Sitting', 'Standing', 'Lying'],\n        \"sleep_interval\": 0\n    }\n}"
      ]
    },
    {
      "cell_type": "markdown",
      "metadata": {},
      "source": [
        "Setup stream\n-------------------------------------------------\n\n"
      ]
    },
    {
      "cell_type": "code",
      "execution_count": null,
      "metadata": {
        "collapsed": false
      },
      "outputs": [],
      "source": [
        "stream = GeneratorSlidingWindowStream(data_source,\n                                      window_size=12.8,\n                                      simulate_reality=False,\n                                      start_time_col=1,\n                                      stop_time_col=2, \n                                      name='annotator-generator-stream')"
      ]
    },
    {
      "cell_type": "markdown",
      "metadata": {},
      "source": [
        "Start stream and read data from the stream\n------------------------------------------\n\nYou may use `stream.get_iterator()` to return a generator to read data from a stream.\n\n"
      ]
    },
    {
      "cell_type": "code",
      "execution_count": null,
      "metadata": {
        "collapsed": false
      },
      "outputs": [],
      "source": [
        "stream.start()\nn = 5\nfor window, st, et, prev_st, prev_et, name in stream.get_iterator():\n    print(\"{}-{}-{}\".format(window.iloc[0, 0],\n                            window.iloc[-1, 0], '-'.join(window.iloc[:, 3])))\n    n -= 1\n    if n == 0:\n        break"
      ]
    },
    {
      "cell_type": "markdown",
      "metadata": {},
      "source": [
        "Stop the stream\n------------------------------------------\n\n"
      ]
    },
    {
      "cell_type": "code",
      "execution_count": null,
      "metadata": {
        "collapsed": false
      },
      "outputs": [],
      "source": [
        "stream.stop()"
      ]
    }
  ],
  "metadata": {
    "kernelspec": {
      "display_name": "Python 3",
      "language": "python",
      "name": "python3"
    },
    "language_info": {
      "codemirror_mode": {
        "name": "ipython",
        "version": 3
      },
      "file_extension": ".py",
      "mimetype": "text/x-python",
      "name": "python",
      "nbconvert_exporter": "python",
      "pygments_lexer": "ipython3",
      "version": "3.7.5"
    }
  },
  "nbformat": 4,
  "nbformat_minor": 0
}