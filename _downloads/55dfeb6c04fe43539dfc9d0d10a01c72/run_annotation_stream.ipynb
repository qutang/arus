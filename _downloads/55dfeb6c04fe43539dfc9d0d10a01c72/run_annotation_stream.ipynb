{
  "cells": [
    {
      "cell_type": "code",
      "execution_count": null,
      "metadata": {
        "collapsed": false
      },
      "outputs": [],
      "source": [
        "%matplotlib inline"
      ]
    },
    {
      "cell_type": "markdown",
      "metadata": {},
      "source": [
        "\nStream using mhealth annotation files\n================================================================================\n"
      ]
    },
    {
      "cell_type": "markdown",
      "metadata": {},
      "source": [
        "Imports\n----------\n\n"
      ]
    },
    {
      "cell_type": "code",
      "execution_count": null,
      "metadata": {
        "collapsed": false
      },
      "outputs": [],
      "source": [
        "from arus.testing import load_test_data\nimport os\nfrom glob import glob\n\nimport matplotlib.pyplot as plt\nimport numpy as np\nimport pandas as pd\n\nfrom arus.core.stream import AnnotationFileSlidingWindowStream"
      ]
    },
    {
      "cell_type": "markdown",
      "metadata": {},
      "source": [
        "Load test annotation files\n---------------------------------\n`files` includes more than one file path.\n\n"
      ]
    },
    {
      "cell_type": "code",
      "execution_count": null,
      "metadata": {
        "collapsed": false
      },
      "outputs": [],
      "source": [
        "files, sr = load_test_data(file_type='mhealth',\n                           sensor_type='annotation',\n                           file_num='multiple',\n                           exception_type='no_missing')"
      ]
    },
    {
      "cell_type": "markdown",
      "metadata": {},
      "source": [
        "Setup stream\n---------------\nStream can accept multiple files as the data source and will read them one by one, so users should ensure the files are sorted in order.\n\n"
      ]
    },
    {
      "cell_type": "code",
      "execution_count": null,
      "metadata": {
        "collapsed": false
      },
      "outputs": [],
      "source": [
        "window_size = 12.8\nstream = AnnotationFileSlidingWindowStream(data_source=files,\n                                           window_size=window_size,\n                                           storage_format='mhealth',\n                                           name='annotation-stream')"
      ]
    },
    {
      "cell_type": "markdown",
      "metadata": {},
      "source": [
        "Start stream and read in data\n---------------------------------\n\n"
      ]
    },
    {
      "cell_type": "code",
      "execution_count": null,
      "metadata": {
        "collapsed": false
      },
      "outputs": [],
      "source": [
        "stream.start()\nchunk_sizes = []\nfor data, _, _, _, _, name in stream.get_iterator():\n    if not data.empty:\n        chunk_sizes.append(\n            (data.iloc[-1, 2] - data.iloc[0, 1]) / pd.Timedelta(1, 's'))"
      ]
    },
    {
      "cell_type": "markdown",
      "metadata": {},
      "source": [
        "Stop stream\n--------------\n\n"
      ]
    },
    {
      "cell_type": "code",
      "execution_count": null,
      "metadata": {
        "collapsed": false
      },
      "outputs": [],
      "source": [
        "stream.stop()"
      ]
    },
    {
      "cell_type": "markdown",
      "metadata": {},
      "source": [
        "Plot the stats of the received data\n-------------------------------------\nThe plot shows at many places, the duration of the annotation windows are not as long as the window size. This is normal, because annotations may not fill up the entire window and there are moments covered with no annotations.\n\n"
      ]
    },
    {
      "cell_type": "code",
      "execution_count": null,
      "metadata": {
        "collapsed": false
      },
      "outputs": [],
      "source": [
        "pd.Series(chunk_sizes).plot(\n    title='annotation durations of each window in the given stream with \\nwindow size of ' + str(window_size) + ' seconds')\nfig = plt.hlines(y=window_size,\n                 xmin=0,\n                 xmax=len(chunk_sizes),\n                 linestyles='dashed')"
      ]
    }
  ],
  "metadata": {
    "kernelspec": {
      "display_name": "Python 3",
      "language": "python",
      "name": "python3"
    },
    "language_info": {
      "codemirror_mode": {
        "name": "ipython",
        "version": 3
      },
      "file_extension": ".py",
      "mimetype": "text/x-python",
      "name": "python",
      "nbconvert_exporter": "python",
      "pygments_lexer": "ipython3",
      "version": "3.7.5"
    }
  },
  "nbformat": 4,
  "nbformat_minor": 0
}