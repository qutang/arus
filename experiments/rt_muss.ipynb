{
 "nbformat": 4,
 "nbformat_minor": 2,
 "metadata": {
  "language_info": {
   "name": "python",
   "codemirror_mode": {
    "name": "ipython",
    "version": 3
   },
   "version": "3.6.5-final"
  },
  "orig_nbformat": 2,
  "file_extension": ".py",
  "mimetype": "text/x-python",
  "name": "python",
  "npconvert_exporter": "python",
  "pygments_lexer": "ipython3",
  "version": 3,
  "kernelspec": {
   "name": "python36564bitvenvvenvd19d05a8d5e84ee3b1ce6d3be61a9d44",
   "display_name": "Python 3.6.5 64-bit ('.venv': venv)"
  }
 },
 "cells": [
  {
   "cell_type": "markdown",
   "execution_count": null,
   "metadata": {},
   "outputs": [],
   "source": [
    "# Developement of RT-MUSS algorithm\n",
    "\n",
    "RT-MUSS is an extension of MUSS algorithm. With the following changes,\n",
    "\n",
    "1. Use a shorter window size (Evaluated in experiment 1)\n",
    "2. Use a higher-level smoothing algorithm (Evaluated in experiment 2)"
   ]
  },
  {
   "cell_type": "markdown",
   "execution_count": null,
   "metadata": {},
   "outputs": [],
   "source": [
    "## Performance of MUSS algorithm with data of different window sizes\n",
    "\n",
    "1. The experiment will be done on triple-sensor (DW + DA + DT) model.\n",
    "2. Metrics include F1-scores for each posture, inner- and inter-activity groups, and individual activities"
   ]
  },
  {
   "cell_type": "markdown",
   "execution_count": null,
   "metadata": {},
   "outputs": [],
   "source": [
    "### By standard MUSS"
   ]
  },
  {
   "cell_type": "code",
   "execution_count": 18,
   "metadata": {},
   "outputs": [],
   "source": [
    "# import modules\n",
    "from arus import dataset\n",
    "import pandas as pd\n",
    "from arus.models import muss\n",
    "from arus import mhealth_format as mh\n",
    "from arus import developer\n",
    "import logging\n",
    "import os"
   ]
  },
  {
   "cell_type": "code",
   "execution_count": null,
   "metadata": {},
   "outputs": [],
   "source": [
    "developer.set_default_logging()"
   ]
  },
  {
   "cell_type": "code",
   "execution_count": null,
   "metadata": {},
   "outputs": [],
   "source": [
    "# constants\n",
    "dataset_name = 'spades_lab'\n",
    "approach = 'muss'\n",
    "session_name = 'SPADESInLab'"
   ]
  },
  {
   "cell_type": "code",
   "execution_count": null,
   "metadata": {},
   "outputs": [],
   "source": [
    "# variables\n",
    "placements = ['DW', 'DA', 'DT']\n",
    "window_sizes = [2, 4, 6, 8, 10, 12, 14, 16, 18, 20, 24, 28, 32]\n",
    "window_sizes = [2, 4, 6, 8, 10]"
   ]
  },
  {
   "cell_type": "code",
   "execution_count": null,
   "metadata": {},
   "outputs": [],
   "source": [
    "muss_model = muss.MUSSModel()\n",
    "spades_lab = dataset.load_dataset(dataset_name)"
   ]
  },
  {
   "cell_type": "code",
   "execution_count": null,
   "metadata": {},
   "outputs": [],
   "source": [
    "# get and run validation on the dataset processed using standard \n",
    "# MUSS algorithm (window size: 12.8s)\n",
    "d0 = pd.read_csv(spades_lab['processed']['muss'], parse_dates=[0, 1, 2])\n",
    "p_feature_sets = []\n",
    "for p in placements:\n",
    "    cond = d0['PLACEMENT'] == p\n",
    "    p_feature_set = d0.loc[cond, :]\n",
    "    del p_feature_set['PLACEMENT']\n",
    "    p_feature_sets.append(p_feature_set)\n",
    "d0_combined, feature_names = dataset.combine_multi_sensor_feature_sets(*p_feature_sets,\n",
    "                                                                        placements=placements, \n",
    "                                                                        feature_names=muss_model.get_feature_names(), \n",
    "                                                                        fixed_cols=['PID', 'CLASS_LABEL_' + session_name])"
   ]
  },
  {
   "cell_type": "code",
   "execution_count": null,
   "metadata": {},
   "outputs": [],
   "source": [
    "d0_filtered = dataset.filter_out_column_values(d0_combined, selected_col='CLASS_LABEL_' + session_name, values_to_remove=['Unknown', 'Transition'])\n",
    "d0_features = dataset.select_feature_set_columns(d0_filtered, selected_cols=feature_names, fixed_cols=['PID'])\n",
    "d0_classes = dataset.select_feature_set_columns(d0_filtered, selected_cols=['CLASS_LABEL_' + session_name], fixed_cols=['PID'])\n",
    "d0_features.shape, d0_classes.shape"
   ]
  },
  {
   "cell_type": "code",
   "execution_count": null,
   "metadata": {},
   "outputs": [],
   "source": [
    "input_class_vec, output_class_vec, class_labels, acc = muss_model.validate_classifier(d0_features, d0_classes, class_col='CLASS_LABEL_' + session_name, feature_names=feature_names, placement_names=placements, group_col='PID')"
   ]
  },
  {
   "cell_type": "markdown",
   "execution_count": null,
   "metadata": {},
   "outputs": [],
   "source": [
    "### Different window sizes"
   ]
  },
  {
   "cell_type": "code",
   "execution_count": 20,
   "metadata": {},
   "outputs": [
    {
     "name": "stderr",
     "output_type": "stream",
     "text": "cessing task...\n[INFO]2020-02-03 18:05:57,428 <P22256-SPADES_11-pipeline-send-result> Sending processed results to queue...\n[INFO]2020-02-03 18:05:57,448 <P22256-SPADES_11-pipeline-sync-streams> Started a processing task...\n[INFO]2020-02-03 18:05:57,498 <P22256-SPADES_11-pipeline-sync-streams> Starting a processing task...\n[INFO]2020-02-03 18:05:57,501 <P22256-SPADES_11-pipeline-sync-streams> Started a processing task...\n[INFO]2020-02-03 18:05:57,502 <P22256-SPADES_11-pipeline-send-result> Sending processed results to queue...\n[INFO]2020-02-03 18:05:57,522 <P22256-SPADES_11-pipeline-sync-streams> Starting a processing task...\n[INFO]2020-02-03 18:05:57,542 <P22256-SPADES_11-pipeline-send-result> Sending processed results to queue...\n[INFO]2020-02-03 18:05:57,561 <P22256-SPADES_11-pipeline-sync-streams> Started a processing task...\n[INFO]2020-02-03 18:05:57,596 <P22256-SPADES_11-pipeline-send-result> Sending processed results to queue...\n[INFO]2020-02-03 18:05:57,601 <P22256-SPADES_11-pipeline-sync-streams> Starting a processing task...\n[INFO]2020-02-03 18:05:57,622 <P22256-SPADES_11-pipeline-sync-streams> Started a processing task...\n[INFO]2020-02-03 18:05:57,636 <P22256-SPADES_11-pipeline-sync-streams> Starting a processing task...\n[INFO]2020-02-03 18:05:57,650 <P22256-SPADES_11-pipeline-send-result> Sending processed results to queue...\n[INFO]2020-02-03 18:05:57,652 <P22256-SPADES_11-pipeline-sync-streams> Started a processing task...\n[INFO]2020-02-03 18:05:57,686 <P22256-SPADES_11-pipeline-sync-streams> Starting a processing task...\n[INFO]2020-02-03 18:05:57,708 <P22256-SPADES_11-pipeline-sync-streams> Started a processing task...\n[INFO]2020-02-03 18:05:57,726 <P22256-SPADES_11-pipeline-sync-streams> Starting a processing task...\n[INFO]2020-02-03 18:05:57,738 <P22256-SPADES_11-pipeline-send-result> Sending processed results to queue...\n[INFO]2020-02-03 18:05:57,742 <P22256-SPADES_11-pipeline-sync-streams> Started a processing task...\n[INFO]2020-02-03 18:05:57,762 <P22256-SPADES_11-pipeline-send-result> Sending processed results to queue...\n[INFO]2020-02-03 18:05:57,779 <P22256-SPADES_11-pipeline-sync-streams> Starting a processing task...\n[INFO]2020-02-03 18:05:57,795 <P22256-SPADES_11-pipeline-send-result> Sending processed results to queue...\n[INFO]2020-02-03 18:05:57,811 <P22256-SPADES_11-pipeline-sync-streams> Started a processing task...\n[INFO]2020-02-03 18:05:57,835 <P22256-SPADES_11-pipeline-send-result> Sending processed results to queue...\n[INFO]2020-02-03 18:05:57,841 <P22256-SPADES_11-pipeline-sync-streams> Starting a processing task...\n[INFO]2020-02-03 18:05:57,868 <P22256-SPADES_11-pipeline-sync-streams> Started a processing task...\n[INFO]2020-02-03 18:05:57,892 <P22256-SPADES_11-pipeline-sync-streams> Starting a processing task...\n[INFO]2020-02-03 18:05:57,902 <P22256-SPADES_11-pipeline-send-result> Sending processed results to queue...\n[INFO]2020-02-03 18:05:57,903 <P22256-SPADES_11-pipeline-sync-streams> Started a processing task...\n[INFO]2020-02-03 18:05:57,956 <P22256-SPADES_11-pipeline-sync-streams> Starting a processing task...\n[INFO]2020-02-03 18:05:57,958 <P22256-SPADES_11-pipeline-send-result> Sending processed results to queue...\n[INFO]2020-02-03 18:05:57,974 <P22256-SPADES_11-pipeline-sync-streams> Started a processing task...\n[INFO]2020-02-03 18:05:58,016 <P22256-SPADES_11-pipeline-send-result> Sending processed results to queue...\n[INFO]2020-02-03 18:05:58,034 <P22256-SPADES_11-pipeline-sync-streams> Starting a processing task...\n[INFO]2020-02-03 18:05:58,068 <P22256-SPADES_11-pipeline-send-result> Sending processed results to queue...\n[INFO]2020-02-03 18:05:58,071 <P22256-SPADES_11-pipeline-sync-streams> Started a processing task...\n[INFO]2020-02-03 18:05:58,138 <P22256-SPADES_11-pipeline-sync-streams> Starting a processing task...\n[INFO]2020-02-03 18:05:58,159 <P22256-SPADES_11-pipeline-send-result> Sending processed results to queue...\n[INFO]2020-02-03 18:05:58,173 <P22256-SPADES_11-pipeline-sync-streams> Started a processing task...\n[INFO]2020-02-03 18:05:58,215 <P22256-SPADES_11-pipeline-sync-streams> Starting a processing task...\n[INFO]2020-02-03 18:05:58,224 <P22256-SPADES_11-pipeline-sync-streams> Started a processing task...\n[INFO]2020-02-03 18:05:58,265 <P22256-SPADES_11-pipeline-sync-streams> Starting a processing task...\n[INFO]2020-02-03 18:05:58,270 <P22256-SPADES_11-pipeline-send-result> Sending processed results to queue...\n[INFO]2020-02-03 18:05:58,292 <P22256-SPADES_11-pipeline-sync-streams> Started a processing task...\n[INFO]2020-02-03 18:05:58,323 <P22256-SPADES_11-pipeline-send-result> Sending processed results to queue...\n[INFO]2020-02-03 18:05:58,344 <P22256-SPADES_11-pipeline-sync-streams> Starting a processing task...\n[INFO]2020-02-03 18:05:58,361 <P22256-SPADES_11-pipeline-sync-streams> Started a processing task...\n[INFO]2020-02-03 18:05:58,392 <P22256-SPADES_11-pipeline-send-result> Sending processed results to queue...\n[INFO]2020-02-03 18:05:58,400 <P22256-SPADES_11-pipeline-sync-streams> Starting a processing task...\n[INFO]2020-02-03 18:05:58,431 <P22256-SPADES_11-pipeline-sync-streams> Started a processing task...\n[INFO]2020-02-03 18:05:58,453 <P22256-SPADES_11-pipeline-sync-streams> Starting a processing task...\n[INFO]2020-02-03 18:05:58,458 <P22256-SPADES_11-pipeline-sync-streams> Started a processing task...\n[INFO]2020-02-03 18:05:58,475 <P22256-SPADES_11-pipeline-sync-streams> Starting a processing task...\n[INFO]2020-02-03 18:05:58,479 <P22256-SPADES_11-pipeline-send-result> Sending processed results to queue...\n[INFO]2020-02-03 18:05:58,482 <P22256-SPADES_11-pipeline-sync-streams> Started a processing task...\n[INFO]2020-02-03 18:05:58,520 <P22256-SPADES_11-pipeline-send-result> Sending processed results to queue...\n[INFO]2020-02-03 18:05:58,530 <P22256-SPADES_11-pipeline-sync-streams> Starting a processing task...\n[INFO]2020-02-03 18:05:58,540 <P22256-SPADES_11-pipeline-send-result> Sending processed results to queue...\n[INFO]2020-02-03 18:05:58,557 <P22256-SPADES_11-pipeline-sync-streams> Started a processing task...\n[INFO]2020-02-03 18:05:58,567 <P22256-SPADES_11-pipeline-send-result> Sending processed results to queue...\n[INFO]2020-02-03 18:05:58,586 <P22256-SPADES_11-pipeline-sync-streams> Starting a processing task...\n[INFO]2020-02-03 18:05:58,610 <P22256-SPADES_11-pipeline-sync-streams> Started a processing task...\n[INFO]2020-02-03 18:05:58,623 <P22256-SPADES_11-pipeline-sync-streams> Starting a processing task...\n[INFO]2020-02-03 18:05:58,631 <P22256-SPADES_11-pipeline-sync-streams> Started a processing task...\n[INFO]2020-02-03 18:05:58,656 <P22256-SPADES_11-pipeline-sync-streams> Starting a processing task...\n[INFO]2020-02-03 18:05:58,657 <P22256-SPADES_11-pipeline-send-result> Sending processed results to queue...\n[INFO]2020-02-03 18:05:58,665 <P22256-SPADES_11-pipeline-sync-streams> Started a processing task...\n[INFO]2020-02-03 18:05:58,689 <P22256-SPADES_11-pipeline-send-result> Sending processed results to queue...\n[INFO]2020-02-03 18:05:58,714 <P22256-SPADES_11-pipeline-sync-streams> Starting a processing task...\n[INFO]2020-02-03 18:05:58,726 <P22256-SPADES_11-pipeline-send-result> Sending processed results to queue...\n[INFO]2020-02-03 18:05:58,735 <P22256-SPADES_11-pipeline-sync-streams> Started a processing task...\n[INFO]2020-02-03 18:05:58,765 <P22256-SPADES_11-pipeline-send-result> Sending processed results to queue...\n[INFO]2020-02-03 18:05:58,768 <P22256-SPADES_11-pipeline-sync-streams> Starting a processing task...\n[INFO]2020-02-03 18:05:58,794 <P22256-SPADES_11-pipeline-sync-streams> Started a processing task...\n[INFO]2020-02-03 18:05:58,834 <P22256-SPADES_11-pipeline-send-result> Sending processed results to queue...\n[INFO]2020-02-03 18:05:58,843 <P22256-SPADES_11-pipeline-sync-streams> Starting a processing task...\n[INFO]2020-02-03 18:05:58,869 <P22256-SPADES_11-pipeline-sync-streams> Started a processing task...\n[INFO]2020-02-03 18:05:58,888 <P22256-SPADES_11-pipeline-sync-streams> Starting a processing task...\n[INFO]2020-02-03 18:05:58,891 <P22256-SPADES_11-pipeline-sync-streams> Started a processing task...\n[INFO]2020-02-03 18:05:58,911 <P22256-SPADES_11-pipeline-send-result> Sending processed results to queue...\n[INFO]2020-02-03 18:05:58,922 <P22256-SPADES_11-pipeline-sync-streams> Starting a processing task...\n[INFO]2020-02-03 18:05:58,959 <P22256-SPADES_11-pipeline-sync-streams> Started a processing task...\n[INFO]2020-02-03 18:05:58,968 <P22256-SPADES_11-pipeline-send-result> Sending processed results to queue...\n[INFO]2020-02-03 18:05:58,969 <P22256-SPADES_11-pipeline-sync-streams> Starting a processing task...\n[INFO]2020-02-03 18:05:58,993 <P22256-SPADES_11-pipeline-send-result> Sending processed results to queue...\n[INFO]2020-02-03 18:05:59,003 <P22256-SPADES_11-pipeline-sync-streams> Started a processing task...\n[INFO]2020-02-03 18:05:59,039 <P22256-SPADES_11-pipeline-sync-streams> Starting a processing task...\n[INFO]2020-02-03 18:05:59,044 <P22256-SPADES_11-pipeline-sync-streams> Started a processing task...\n[INFO]2020-02-03 18:05:59,079 <P22256-SPADES_11-pipeline-send-result> Sending processed results to queue...\n[INFO]2020-02-03 18:05:59,093 <P22256-SPADES_11-pipeline-sync-streams> Starting a processing task...\n[INFO]2020-02-03 18:05:59,097 <P22256-SPADES_11-pipeline-send-result> Sending processed results to queue...\n[INFO]2020-02-03 18:05:59,112 <P22256-SPADES_11-pipeline-sync-streams> Started a processing task...\n[INFO]2020-02-03 18:05:59,148 <P22256-SPADES_11-pipeline-send-result> Sending processed results to queue...\n[INFO]2020-02-03 18:05:59,159 <P22256-SPADES_11-pipeline-sync-streams> Starting a processing task...\n[INFO]2020-02-03 18:05:59,180 <P22256-SPADES_11-pipeline-sync-streams> Started a processing task...\n[INFO]2020-02-03 18:05:59,194 <P22256-SPADES_11-pipeline-sync-streams> Starting a processing task...\n[INFO]2020-02-03 18:05:59,206 <P22256-SPADES_11-pipeline-sync-streams> Started a processing task...\n[INFO]2020-02-03 18:05:59,224 <P22256-SPADES_11-pipeline-sync-streams> Starting a processing task...\n[INFO]2020-02-03 18:05:59,224 <P22256-SPADES_11-pipeline-send-result> Sending processed results to queue...\n[INFO]2020-02-03 18:05:59,241 <P22256-SPADES_11-pipeline-sync-streams> Started a processing task...\n[INFO]2020-02-03 18:05:59,269 <P22256-SPADES_11-pipeline-send-result> Sending processed results to queue...\n[INFO]2020-02-03 18:05:59,274 <P22256-SPADES_11-pipeline-sync-streams> Starting a processing task...\n[INFO]2020-02-03 18:05:59,296 <P22256-SPADES_11-pipeline-send-result> Sending processed results to queue...\n[INFO]2020-02-03 18:05:59,300 <P22256-SPADES_11-pipeline-sync-streams> Started a processing task...\n[INFO]2020-02-03 18:05:59,388 <P22256-SPADES_11-pipeline-send-result> Sending processed results to queue...\n[INFO]2020-02-03 18:05:59,448 <P22256-SPADES_11-pipeline-sync-streams> Starting a processing task...\n[INFO]2020-02-03 18:05:59,632 <P22256-SPADES_11-pipeline-send-result> Sending processed results to queue...\n[INFO]2020-02-03 18:05:59,667 <P22256-SPADES_11-pipeline-sync-streams> Started a processing task...\n[INFO]2020-02-03 18:05:59,710 <P22256-SPADES_11-pipeline-sync-streams> Starting a processing task...\n[INFO]2020-02-03 18:05:59,719 <P22256-SPADES_11-pipeline-sync-streams> Started a processing task...\n[INFO]2020-02-03 18:05:59,740 <P22256-SPADES_11-pipeline-sync-streams> Starting a processing task...\n[INFO]2020-02-03 18:05:59,744 <P22256-SPADES_11-pipeline-sync-streams> Started a processing task...\n[INFO]2020-02-03 18:05:59,772 <P22256-SPADES_11-pipeline-send-result> Sending processed results to queue...\n[INFO]2020-02-03 18:05:59,782 <P22256-SPADES_11-pipeline-sync-streams> Starting a processing task...\n[INFO]2020-02-03 18:05:59,806 <P22256-SPADES_11-pipeline-sync-streams> Started a processing task...\n[INFO]2020-02-03 18:05:59,846 <P22256-SPADES_11-pipeline-sync-streams> Starting a processing task...\n[INFO]2020-02-03 18:05:59,847 <P22256-SPADES_11-pipeline-send-result> Sending processed results to queue...\n[INFO]2020-02-03 18:05:59,862 <P22256-SPADES_11-pipeline-sync-streams> Started a processing task...\n[INFO]2020-02-03 18:05:59,891 <P22256-SPADES_11-pipeline-send-result> Sending processed results to queue...\n[INFO]2020-02-03 18:05:59,927 <P22256-SPADES_11-pipeline-sync-streams> Starting a processing task...\n[INFO]2020-02-03 18:05:59,940 <P22256-SPADES_11-pipeline-send-result> Sending processed results to queue...\n[INFO]2020-02-03 18:05:59,947 <P22256-SPADES_11-pipeline-sync-streams> Started a processing task...\n[INFO]2020-02-03 18:05:59,987 <P22256-SPADES_11-pipeline-send-result> Sending processed results to queue...\n[INFO]2020-02-03 18:05:59,994 <P22256-SPADES_11-pipeline-sync-streams> Starting a processing task...\n[INFO]2020-02-03 18:06:00,015 <P22256-SPADES_11-pipeline-sync-streams> Started a processing task...\n[INFO]2020-02-03 18:06:00,032 <P22256-SPADES_11-pipeline-sync-streams> Starting a processing task...\n[INFO]2020-02-03 18:06:00,037 <P22256-SPADES_11-pipeline-sync-streams> Started a processing task...\n[INFO]2020-02-03 18:06:00,047 <P22256-SPADES_11-pipeline-send-result> Sending processed results to queue...\n[INFO]2020-02-03 18:06:00,054 <P22256-SPADES_11-pipeline-sync-streams> Starting a processing task...\n[INFO]2020-02-03 18:06:00,071 <P22256-SPADES_11-pipeline-sync-streams> Started a processing task...\n[INFO]2020-02-03 18:06:00,084 <P22256-SPADES_11-pipeline-sync-streams> Starting a processing task...\n[INFO]2020-02-03 18:06:00,097 <P22256-SPADES_11-pipeline-sync-streams> Started a processing task...\n[INFO]2020-02-03 18:06:00,105 <P22256-SPADES_11-pipeline-send-result> Sending processed results to queue...\n[INFO]2020-02-03 18:06:00,117 <P22256-SPADES_11-pipeline-sync-streams> Starting a processing task...\n[INFO]2020-02-03 18:06:00,133 <P22256-SPADES_11-pipeline-send-result> Sending processed results to queue...\n[INFO]2020-02-03 18:06:00,157 <P22256-SPADES_11-pipeline-sync-streams> Started a processing task...\n[INFO]2020-02-03 18:06:00,181 <P22256-SPADES_11-pipeline-send-result> Sending processed results to queue...\n[INFO]2020-02-03 18:06:00,202 <P22256-SPADES_11-pipeline-sync-streams> Starting a processing task...\n[INFO]2020-02-03 18:06:00,215 <P22256-SPADES_11-pipeline-send-result> Sending processed results to queue...\n[INFO]2020-02-03 18:06:00,234 <P22256-SPADES_11-pipeline-sync-streams> Started a processing task...\n[INFO]2020-02-03 18:06:00,256 <P22256-SPADES_11-pipeline-send-result> Sending processed results to queue...\n[INFO]2020-02-03 18:06:00,278 <P22256-SPADES_11-pipeline-sync-streams> Starting a processing task...\n[INFO]2020-02-03 18:06:00,301 <P22256-SPADES_11-pipeline-sync-streams> Started a processing task...\n[INFO]2020-02-03 18:06:00,331 <P22256-SPADES_11-pipeline-sync-streams> Starting a processing task...\n[INFO]2020-02-03 18:06:00,334 <P22256-SPADES_11-pipeline-sync-streams> Started a processing task...\n[INFO]2020-02-03 18:06:00,347 <P22256-SPADES_11-pipeline-send-result> Sending processed results to queue...\n[INFO]2020-02-03 18:06:00,352 <P22256-SPADES_11-pipeline-sync-streams> Starting a processing task...\n[INFO]2020-02-03 18:06:00,366 <P22256-SPADES_11-pipeline-sync-streams> Started a processing task...\n[INFO]2020-02-03 18:06:00,393 <P22256-SPADES_11-pipeline-sync-streams> Starting a processing task...\n[INFO]2020-02-03 18:06:00,411 <P22256-SPADES_11-pipeline-send-result> Sending processed results to queue...\n[INFO]2020-02-03 18:06:00,424 <P22256-SPADES_11-pipeline-sync-streams> Started a processing task...\n[INFO]2020-02-03 18:06:00,443 <P22256-SPADES_11-pipeline-send-result> Sending processed results to queue...\n[INFO]2020-02-03 18:06:00,470 <P22256-SPADES_11-pipeline-sync-streams> Starting a processing task...\n[INFO]2020-02-03 18:06:00,489 <P22256-SPADES_11-pipeline-send-result> Sending processed results to queue...\n[INFO]2020-02-03 18:06:00,513 <P22256-SPADES_11-pipeline-sync-streams> Started a processing task...\n[INFO]2020-02-03 18:06:00,540 <P22256-SPADES_11-pipeline-send-result> Sending processed results to queue...\n[INFO]2020-02-03 18:06:00,558 <P22256-SPADES_11-pipeline-sync-streams> Starting a processing task...\n[INFO]2020-02-03 18:06:00,581 <P22256-SPADES_11-pipeline-sync-streams> Started a processing task...\n[INFO]2020-02-03 18:06:00,604 <P22256-SPADES_11-pipeline-sync-streams> Starting a processing task...\n[INFO]2020-02-03 18:06:00,605 <P22256-SPADES_11-pipeline-sync-streams> Started a processing task...\n[INFO]2020-02-03 18:06:00,609 <P22256-SPADES_11-pipeline-send-result> Sending processed results to queue...\n[INFO]2020-02-03 18:06:00,636 <P22256-SPADES_11-pipeline-sync-streams> Starting a processing task...\n[INFO]2020-02-03 18:06:00,649 <P22256-SPADES_11-pipeline-sync-streams> Started a processing task...\n[INFO]2020-02-03 18:06:00,665 <P22256-SPADES_11-pipeline-sync-streams> Starting a processing task...\n[INFO]2020-02-03 18:06:00,679 <P22256-SPADES_11-pipeline-sync-streams> Started a processing task...\n[INFO]2020-02-03 18:06:00,682 <P22256-SPADES_11-pipeline-send-result> Sending processed results to queue...\n[INFO]2020-02-03 18:06:00,708 <P22256-SPADES_11-pipeline-sync-streams> Starting a processing task...\n[INFO]2020-02-03 18:06:00,725 <P22256-SPADES_11-pipeline-send-result> Sending processed results to queue...\n[INFO]2020-02-03 18:06:00,736 <P22256-SPADES_11-pipeline-sync-streams> Started a processing task...\n[INFO]2020-02-03 18:06:00,755 <P22256-SPADES_11-pipeline-send-result> Sending processed results to queue...\n[INFO]2020-02-03 18:06:00,775 <P22256-SPADES_11-pipeline-sync-streams> Starting a processing task...\n[INFO]2020-02-03 18:06:00,786 <P22256-SPADES_11-pipeline-send-result> Sending processed results to queue...\n[INFO]2020-02-03 18:06:00,797 <P22256-SPADES_11-pipeline-sync-streams> Started a processing task...\n[INFO]2020-02-03 18:06:00,828 <P22256-SPADES_11-pipeline-send-result> Sending processed results to queue...\n[INFO]2020-02-03 18:06:00,833 <P22256-SPADES_11-pipeline-sync-streams> Starting a processing task...\n[INFO]2020-02-03 18:06:00,852 <P22256-SPADES_11-pipeline-sync-streams> Started a processing task...\n[INFO]2020-02-03 18:06:00,882 <P22256-SPADES_11-pipeline-send-result> Sending processed results to queue...\n[INFO]2020-02-03 18:06:00,896 <P22256-SPADES_11-pipeline-sync-streams> Starting a processing task...\n[INFO]2020-02-03 18:06:00,911 <P22256-SPADES_11-pipeline-sync-streams> Started a processing task...\n[INFO]2020-02-03 18:06:00,943 <P22256-SPADES_11-pipeline-sync-streams> Starting a processing task...\n[INFO]2020-02-03 18:06:00,957 <P22256-SPADES_11-pipeline-sync-streams> Started a processing task...\n[INFO]2020-02-03 18:06:00,965 <P22256-SPADES_11-pipeline-send-result> Sending processed results to queue...\n[INFO]2020-02-03 18:06:00,984 <P22256-SPADES_11-pipeline-sync-streams> Starting a processing task...\n[INFO]2020-02-03 18:06:01,008 <P22256-SPADES_11-pipeline-send-result> Sending processed results to queue...\n[INFO]2020-02-03 18:06:01,025 <P22256-SPADES_11-pipeline-sync-streams> Started a processing task...\n[INFO]2020-02-03 18:06:01,060 <P22256-SPADES_11-pipeline-send-result> Sending processed results to queue...\n[INFO]2020-02-03 18:06:01,069 <P22256-SPADES_11-pipeline-sync-streams> Starting a processing task...\n[INFO]2020-02-03 18:06:01,087 <P22256-SPADES_11-pipeline-sync-streams> Started a processing task...\n[INFO]2020-02-03 18:06:01,104 <P22256-SPADES_11-pipeline-sync-streams> Starting a processing task...\n[INFO]2020-02-03 18:06:01,111 <P22256-SPADES_11-pipeline-sync-streams> Started a processing task...\n[INFO]2020-02-03 18:06:01,135 <P22256-SPADES_11-pipeline-send-result> Sending processed results to queue...\n[INFO]2020-02-03 18:06:01,138 <P22256-SPADES_11-pipeline-sync-streams> Starting a processing task...\n[INFO]2020-02-03 18:06:01,216 <P22256-SPADES_11-pipeline-send-result> Sending processed results to queue...\n[INFO]2020-02-03 18:06:01,299 <P22256-SPADES_11-pipeline-sync-streams> Started a processing task...\n"
    }
   ],
   "source": [
    "# Process spades lab datasets with different window sizes\n",
    "for ws in window_sizes:\n",
    "    logging.info('Processing spades lab using muss with window size {}'.format(ws))\n",
    "    df = dataset.process_mehealth_dataset(spades_lab, approach='muss', window_size=ws, sr=80)\n",
    "    # cache data\n",
    "    output_path = os.path.join(mh.get_processed_path(spades_lab['meta']['root']), 'muss_' + str(ws) + '.csv')\n",
    "    df.to_csv(output_path, index=False)"
   ]
  },
  {
   "cell_type": "code",
   "execution_count": null,
   "metadata": {},
   "outputs": [],
   "source": []
  }
 ]
}