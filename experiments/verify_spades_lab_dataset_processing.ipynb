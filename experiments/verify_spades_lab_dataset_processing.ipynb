{
 "nbformat": 4,
 "nbformat_minor": 2,
 "metadata": {
  "language_info": {
   "name": "python",
   "codemirror_mode": {
    "name": "ipython",
    "version": 3
   },
   "version": "3.6.5-final"
  },
  "orig_nbformat": 2,
  "file_extension": ".py",
  "mimetype": "text/x-python",
  "name": "python",
  "npconvert_exporter": "python",
  "pygments_lexer": "ipython3",
  "version": 3,
  "kernelspec": {
   "name": "python36564bitvenvvenvd19d05a8d5e84ee3b1ce6d3be61a9d44",
   "display_name": "Python 3.6.5 64-bit ('.venv': venv)"
  }
 },
 "cells": [
  {
   "cell_type": "markdown",
   "execution_count": null,
   "metadata": {},
   "outputs": [],
   "source": [
    "# Using arus package to process spades lab dataset"
   ]
  },
  {
   "cell_type": "markdown",
   "execution_count": 1,
   "metadata": {},
   "outputs": [],
   "source": [
    "## Reference: processed dataset from the original MUSS project"
   ]
  },
  {
   "cell_type": "markdown",
   "execution_count": null,
   "metadata": {},
   "outputs": [],
   "source": [
    "**Reference dataset version: MUSS 1.1.6**"
   ]
  },
  {
   "cell_type": "code",
   "execution_count": 1,
   "metadata": {},
   "outputs": [],
   "source": [
    "from arus import dataset\n",
    "from arus import env\n",
    "import os\n",
    "name = 'spades_lab_reference'\n",
    "path = dataset.download_dataset('https://github.com/qutang/MUSS/releases/download/v1.1.6/sample_reproduction_results.tar.gz', name + '.tar.gz')"
   ]
  },
  {
   "cell_type": "code",
   "execution_count": 2,
   "metadata": {},
   "outputs": [],
   "source": [
    "if os.path.exists(os.path.join(env.get_data_home(), name)):\n",
    "    decompressed_path = os.path.join(env.get_data_home(), name)\n",
    "else:\n",
    "    decompressed_path = dataset.decompress_dataset(path, 'sample_results_1_1_6')"
   ]
  },
  {
   "cell_type": "code",
   "execution_count": 3,
   "metadata": {},
   "outputs": [],
   "source": [
    "import pandas as pd\n",
    "data_filepath = os.path.join(decompressed_path, 'muss.feature.csv')\n",
    "class_filepath = os.path.join(decompressed_path, 'muss.class.csv')\n",
    "d0 = pd.read_csv(data_filepath, parse_dates=[0, 1, 2])\n",
    "d0_class = pd.read_csv(class_filepath, parse_dates=[0, 1, 2])"
   ]
  },
  {
   "cell_type": "code",
   "execution_count": 4,
   "metadata": {},
   "outputs": [],
   "source": [
    "# Merge d0 and d0_class\n",
    "d0 = d0.merge(d0_class, sort=False)"
   ]
  },
  {
   "cell_type": "markdown",
   "execution_count": null,
   "metadata": {},
   "outputs": [],
   "source": [
    "## processed dataset using arus package"
   ]
  },
  {
   "cell_type": "code",
   "execution_count": 5,
   "metadata": {},
   "outputs": [],
   "source": [
    "spades_lab = dataset.load_dataset('spades_lab')\n",
    "d1 = pd.read_csv(spades_lab['processed']['muss'], parse_dates=[0, 1, 2])"
   ]
  },
  {
   "cell_type": "markdown",
   "execution_count": null,
   "metadata": {},
   "outputs": [],
   "source": [
    "## Comparison"
   ]
  },
  {
   "cell_type": "code",
   "execution_count": 6,
   "metadata": {},
   "outputs": [],
   "source": [
    "# Filter out \"Unknown\" and \"Transitions\"\n",
    "d0_f = d0.loc[(d0['FINEST_ACTIVITIES'] != 'Unknown') & (d0['FINEST_ACTIVITIES'] != 'Transition'), :]\n",
    "d1_f = d1.loc[(d1['CLASS_LABEL_SPADESInLab'] != 'Unknown') & (d1['CLASS_LABEL_SPADESInLab'] != 'Transition'), :]"
   ]
  },
  {
   "cell_type": "markdown",
   "execution_count": null,
   "metadata": {},
   "outputs": [],
   "source": [
    "### Compare sample size"
   ]
  },
  {
   "cell_type": "code",
   "execution_count": 7,
   "metadata": {},
   "outputs": [],
   "source": [
    "c0 = d0_f.groupby(by=['PID']).size()\n",
    "c0 = c0.to_frame(name='c0_count')\n",
    "c0 = c0.reset_index(drop=False)\n",
    "c0 = c0.rename(columns={'SENSOR_PLACEMENT': 'PLACEMENT'})"
   ]
  },
  {
   "cell_type": "code",
   "execution_count": 8,
   "metadata": {},
   "outputs": [],
   "source": [
    "c1 = d1_f.groupby(by=['PID']).size()\n",
    "c1 = c1.to_frame(name='c1_count')\n",
    "c1 = c1.reset_index(drop=False)"
   ]
  },
  {
   "cell_type": "code",
   "execution_count": 9,
   "metadata": {},
   "outputs": [
    {
     "data": {
      "text/html": "<div>\n<style scoped>\n    .dataframe tbody tr th:only-of-type {\n        vertical-align: middle;\n    }\n\n    .dataframe tbody tr th {\n        vertical-align: top;\n    }\n\n    .dataframe thead th {\n        text-align: right;\n    }\n</style>\n<table border=\"1\" class=\"dataframe\">\n  <thead>\n    <tr style=\"text-align: right;\">\n      <th></th>\n      <th>PID</th>\n      <th>c0_count</th>\n      <th>c1_count</th>\n    </tr>\n  </thead>\n  <tbody>\n    <tr>\n      <th>0</th>\n      <td>SPADES_1</td>\n      <td>609</td>\n      <td>609</td>\n    </tr>\n    <tr>\n      <th>1</th>\n      <td>SPADES_11</td>\n      <td>1092</td>\n      <td>1092</td>\n    </tr>\n    <tr>\n      <th>2</th>\n      <td>SPADES_12</td>\n      <td>1029</td>\n      <td>1029</td>\n    </tr>\n    <tr>\n      <th>3</th>\n      <td>SPADES_13</td>\n      <td>735</td>\n      <td>735</td>\n    </tr>\n    <tr>\n      <th>4</th>\n      <td>SPADES_15</td>\n      <td>1253</td>\n      <td>1253</td>\n    </tr>\n    <tr>\n      <th>5</th>\n      <td>SPADES_16</td>\n      <td>1323</td>\n      <td>1323</td>\n    </tr>\n    <tr>\n      <th>6</th>\n      <td>SPADES_17</td>\n      <td>1274</td>\n      <td>1274</td>\n    </tr>\n    <tr>\n      <th>7</th>\n      <td>SPADES_18</td>\n      <td>1057</td>\n      <td>1057</td>\n    </tr>\n    <tr>\n      <th>8</th>\n      <td>SPADES_19</td>\n      <td>1449</td>\n      <td>1449</td>\n    </tr>\n    <tr>\n      <th>9</th>\n      <td>SPADES_2</td>\n      <td>791</td>\n      <td>791</td>\n    </tr>\n    <tr>\n      <th>10</th>\n      <td>SPADES_20</td>\n      <td>1253</td>\n      <td>1253</td>\n    </tr>\n    <tr>\n      <th>11</th>\n      <td>SPADES_21</td>\n      <td>1575</td>\n      <td>1575</td>\n    </tr>\n    <tr>\n      <th>12</th>\n      <td>SPADES_22</td>\n      <td>1379</td>\n      <td>1379</td>\n    </tr>\n    <tr>\n      <th>13</th>\n      <td>SPADES_23</td>\n      <td>1379</td>\n      <td>1379</td>\n    </tr>\n    <tr>\n      <th>14</th>\n      <td>SPADES_24</td>\n      <td>1099</td>\n      <td>1099</td>\n    </tr>\n    <tr>\n      <th>15</th>\n      <td>SPADES_25</td>\n      <td>721</td>\n      <td>721</td>\n    </tr>\n    <tr>\n      <th>16</th>\n      <td>SPADES_26</td>\n      <td>1652</td>\n      <td>1652</td>\n    </tr>\n    <tr>\n      <th>17</th>\n      <td>SPADES_27</td>\n      <td>826</td>\n      <td>826</td>\n    </tr>\n    <tr>\n      <th>18</th>\n      <td>SPADES_28</td>\n      <td>1183</td>\n      <td>1183</td>\n    </tr>\n    <tr>\n      <th>19</th>\n      <td>SPADES_29</td>\n      <td>1078</td>\n      <td>1078</td>\n    </tr>\n    <tr>\n      <th>20</th>\n      <td>SPADES_3</td>\n      <td>903</td>\n      <td>903</td>\n    </tr>\n    <tr>\n      <th>21</th>\n      <td>SPADES_30</td>\n      <td>1099</td>\n      <td>1099</td>\n    </tr>\n    <tr>\n      <th>22</th>\n      <td>SPADES_31</td>\n      <td>1064</td>\n      <td>1064</td>\n    </tr>\n    <tr>\n      <th>23</th>\n      <td>SPADES_34</td>\n      <td>1078</td>\n      <td>1078</td>\n    </tr>\n    <tr>\n      <th>24</th>\n      <td>SPADES_36</td>\n      <td>1260</td>\n      <td>1260</td>\n    </tr>\n    <tr>\n      <th>25</th>\n      <td>SPADES_37</td>\n      <td>1064</td>\n      <td>1064</td>\n    </tr>\n    <tr>\n      <th>26</th>\n      <td>SPADES_38</td>\n      <td>1043</td>\n      <td>1043</td>\n    </tr>\n    <tr>\n      <th>27</th>\n      <td>SPADES_39</td>\n      <td>1239</td>\n      <td>1239</td>\n    </tr>\n    <tr>\n      <th>28</th>\n      <td>SPADES_40</td>\n      <td>1603</td>\n      <td>1603</td>\n    </tr>\n    <tr>\n      <th>29</th>\n      <td>SPADES_41</td>\n      <td>1295</td>\n      <td>1295</td>\n    </tr>\n    <tr>\n      <th>30</th>\n      <td>SPADES_42</td>\n      <td>1057</td>\n      <td>1057</td>\n    </tr>\n    <tr>\n      <th>31</th>\n      <td>SPADES_43</td>\n      <td>1393</td>\n      <td>1393</td>\n    </tr>\n    <tr>\n      <th>32</th>\n      <td>SPADES_44</td>\n      <td>1092</td>\n      <td>1092</td>\n    </tr>\n    <tr>\n      <th>33</th>\n      <td>SPADES_46</td>\n      <td>959</td>\n      <td>959</td>\n    </tr>\n    <tr>\n      <th>34</th>\n      <td>SPADES_47</td>\n      <td>1176</td>\n      <td>1176</td>\n    </tr>\n    <tr>\n      <th>35</th>\n      <td>SPADES_48</td>\n      <td>1442</td>\n      <td>1442</td>\n    </tr>\n    <tr>\n      <th>36</th>\n      <td>SPADES_49</td>\n      <td>1092</td>\n      <td>1092</td>\n    </tr>\n    <tr>\n      <th>37</th>\n      <td>SPADES_50</td>\n      <td>1078</td>\n      <td>1078</td>\n    </tr>\n    <tr>\n      <th>38</th>\n      <td>SPADES_51</td>\n      <td>1547</td>\n      <td>1547</td>\n    </tr>\n    <tr>\n      <th>39</th>\n      <td>SPADES_6</td>\n      <td>854</td>\n      <td>854</td>\n    </tr>\n    <tr>\n      <th>40</th>\n      <td>SPADES_8</td>\n      <td>735</td>\n      <td>735</td>\n    </tr>\n    <tr>\n      <th>41</th>\n      <td>SPADES_9</td>\n      <td>854</td>\n      <td>854</td>\n    </tr>\n  </tbody>\n</table>\n</div>",
      "text/plain": "          PID  c0_count  c1_count\n0    SPADES_1       609       609\n1   SPADES_11      1092      1092\n2   SPADES_12      1029      1029\n3   SPADES_13       735       735\n4   SPADES_15      1253      1253\n5   SPADES_16      1323      1323\n6   SPADES_17      1274      1274\n7   SPADES_18      1057      1057\n8   SPADES_19      1449      1449\n9    SPADES_2       791       791\n10  SPADES_20      1253      1253\n11  SPADES_21      1575      1575\n12  SPADES_22      1379      1379\n13  SPADES_23      1379      1379\n14  SPADES_24      1099      1099\n15  SPADES_25       721       721\n16  SPADES_26      1652      1652\n17  SPADES_27       826       826\n18  SPADES_28      1183      1183\n19  SPADES_29      1078      1078\n20   SPADES_3       903       903\n21  SPADES_30      1099      1099\n22  SPADES_31      1064      1064\n23  SPADES_34      1078      1078\n24  SPADES_36      1260      1260\n25  SPADES_37      1064      1064\n26  SPADES_38      1043      1043\n27  SPADES_39      1239      1239\n28  SPADES_40      1603      1603\n29  SPADES_41      1295      1295\n30  SPADES_42      1057      1057\n31  SPADES_43      1393      1393\n32  SPADES_44      1092      1092\n33  SPADES_46       959       959\n34  SPADES_47      1176      1176\n35  SPADES_48      1442      1442\n36  SPADES_49      1092      1092\n37  SPADES_50      1078      1078\n38  SPADES_51      1547      1547\n39   SPADES_6       854       854\n40   SPADES_8       735       735\n41   SPADES_9       854       854"
     },
     "execution_count": 9,
     "metadata": {},
     "output_type": "execute_result"
    }
   ],
   "source": [
    "comparison = c0.merge(c1, sort=False)\n",
    "comparison"
   ]
  },
  {
   "cell_type": "markdown",
   "execution_count": null,
   "metadata": {},
   "outputs": [],
   "source": [
    "### Compare feature values"
   ]
  },
  {
   "cell_type": "markdown",
   "execution_count": null,
   "metadata": {},
   "outputs": [],
   "source": [
    "### Investigation by PID"
   ]
  },
  {
   "cell_type": "code",
   "execution_count": 10,
   "metadata": {},
   "outputs": [],
   "source": [
    "d0_f_1 = d0_f.loc[d0_f['PID'] == 'SPADES_1', :]\n",
    "d1_f_1 = d1_f.loc[d1_f['PID'] == 'SPADES_1', :]\n",
    "d0_f_1 = d0_f_1.rename(columns={'SENSOR_PLACEMENT': 'PLACEMENT'})\n",
    "merged_f_1 = d0_f_1.merge(d1_f_1, how='left', on=['PLACEMENT', 'START_TIME', 'STOP_TIME'], suffixes=('_ref', '_arus'))"
   ]
  }
 ]
}